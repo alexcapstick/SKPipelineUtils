{
 "cells": [
  {
   "cell_type": "markdown",
   "metadata": {},
   "source": [
    "# An Example of the Pipeline Functionality:"
   ]
  },
  {
   "cell_type": "markdown",
   "metadata": {},
   "source": [
    "Within this package, we build on the sklearn pipelines to improve their flexibility and use-cases. The main contribution is the modification of sklearn pipelines to fit, transform and predict on data dictionaries."
   ]
  },
  {
   "cell_type": "code",
   "execution_count": 1,
   "metadata": {},
   "outputs": [],
   "source": [
    "import sku\n",
    "\n",
    "import numpy as np\n",
    "from sklearn.datasets import load_digits\n",
    "from sklearn.preprocessing import StandardScaler\n",
    "from sklearn.ensemble import HistGradientBoostingClassifier\n",
    "from sklearn.model_selection import StratifiedKFold\n",
    "from sklearn.metrics import accuracy_score"
   ]
  },
  {
   "cell_type": "markdown",
   "metadata": {},
   "source": [
    "We will download and use a toy-data set available in sklearn:"
   ]
  },
  {
   "cell_type": "code",
   "execution_count": 2,
   "metadata": {},
   "outputs": [],
   "source": [
    "data = load_digits()\n",
    "\n",
    "X = data['data']\n",
    "y = data['target']"
   ]
  },
  {
   "cell_type": "markdown",
   "metadata": {},
   "source": [
    "Let's make 75% of the data unlabelled, to emphasise the flexibility of this new pipeline. Here, we will class an unlabelled point as having a y value of $-1$."
   ]
  },
  {
   "cell_type": "code",
   "execution_count": 3,
   "metadata": {},
   "outputs": [],
   "source": [
    "idx_unlabelled = np.random.choice(y.shape[0], size=int(y.shape[0]*0.75), replace=False)\n",
    "\n",
    "y[idx_unlabelled] = -1"
   ]
  },
  {
   "cell_type": "code",
   "execution_count": 4,
   "metadata": {},
   "outputs": [
    {
     "name": "stdout",
     "output_type": "stream",
     "text": [
      "There are 450 labelled points and 1347 unlabelled points.\n"
     ]
    }
   ],
   "source": [
    "print(f'There are {y[y!=-1].shape[0]} labelled points '\\\n",
    "        f'and {y[y==-1].shape[0]} unlabelled points.')"
   ]
  },
  {
   "cell_type": "markdown",
   "metadata": {},
   "source": [
    "We now make a dictionary containing the data:"
   ]
  },
  {
   "cell_type": "code",
   "execution_count": 5,
   "metadata": {},
   "outputs": [],
   "source": [
    "train_data = {'X':X[y!=-1], 'y': y[y!=-1], 'X_unlabelled': X[y==-1]}"
   ]
  },
  {
   "cell_type": "code",
   "execution_count": 6,
   "metadata": {},
   "outputs": [
    {
     "data": {
      "text/plain": [
       "{'X': array([[ 0.,  0.,  0., ..., 11.,  3.,  0.],\n",
       "        [ 0.,  0.,  5., ..., 13., 12.,  4.],\n",
       "        [ 0.,  5., 12., ...,  0.,  0.,  0.],\n",
       "        ...,\n",
       "        [ 0.,  3., 14., ..., 11.,  1.,  0.],\n",
       "        [ 0.,  0.,  4., ...,  9.,  0.,  0.],\n",
       "        [ 0.,  0.,  0., ...,  9.,  0.,  0.]]),\n",
       " 'y': array([6, 2, 5, 2, 4, 7, 9, 9, 1, 0, 1, 3, 4, 6, 5, 8, 2, 0, 2, 6, 1, 7,\n",
       "        6, 3, 5, 6, 8, 2, 7, 9, 0, 1, 3, 6, 7, 8, 1, 2, 8, 9, 5, 9, 8, 4,\n",
       "        3, 2, 3, 3, 4, 5, 2, 0, 3, 1, 3, 9, 6, 1, 4, 6, 4, 7, 5, 4, 1, 2,\n",
       "        3, 8, 9, 2, 7, 0, 5, 6, 8, 8, 8, 4, 7, 3, 0, 2, 2, 6, 6, 0, 9, 5,\n",
       "        0, 1, 6, 3, 9, 8, 4, 4, 6, 2, 8, 5, 5, 7, 1, 3, 4, 6, 2, 4, 5, 7,\n",
       "        8, 9, 5, 9, 0, 2, 3, 7, 6, 0, 7, 4, 6, 7, 8, 7, 5, 4, 4, 7, 4, 6,\n",
       "        1, 6, 6, 8, 5, 1, 2, 2, 3, 6, 1, 5, 0, 0, 7, 3, 4, 4, 6, 6, 7, 5,\n",
       "        7, 8, 0, 8, 9, 6, 1, 3, 4, 5, 1, 3, 4, 5, 7, 8, 0, 5, 6, 1, 0, 2,\n",
       "        7, 3, 4, 6, 9, 1, 0, 5, 2, 1, 8, 1, 4, 9, 6, 8, 2, 7, 0, 8, 9, 5,\n",
       "        7, 9, 5, 0, 1, 7, 5, 6, 8, 3, 5, 0, 2, 2, 2, 3, 4, 6, 9, 2, 8, 2,\n",
       "        1, 6, 3, 0, 6, 6, 8, 0, 8, 2, 3, 3, 4, 5, 9, 5, 8, 9, 8, 7, 1, 6,\n",
       "        4, 2, 4, 6, 3, 1, 3, 0, 4, 7, 8, 4, 9, 9, 3, 7, 9, 1, 4, 6, 1, 3,\n",
       "        6, 9, 5, 5, 8, 9, 3, 5, 2, 3, 3, 6, 8, 1, 1, 3, 9, 7, 6, 3, 7, 4,\n",
       "        8, 4, 9, 1, 7, 8, 7, 0, 2, 7, 5, 0, 8, 7, 3, 7, 3, 4, 6, 6, 9, 5,\n",
       "        2, 2, 0, 1, 1, 4, 5, 9, 7, 4, 2, 5, 8, 4, 0, 2, 6, 5, 8, 0, 1, 7,\n",
       "        9, 0, 5, 4, 7, 6, 3, 4, 6, 4, 9, 5, 2, 0, 7, 6, 3, 9, 3, 6, 4, 8,\n",
       "        2, 5, 0, 1, 8, 0, 4, 6, 9, 2, 4, 6, 8, 0, 9, 7, 3, 0, 8, 2, 6, 3,\n",
       "        4, 2, 0, 1, 7, 1, 3, 7, 6, 4, 1, 3, 6, 1, 7, 2, 4, 9, 6, 9, 5, 0,\n",
       "        1, 2, 6, 1, 5, 0, 2, 3, 6, 6, 3, 2, 4, 9, 1, 6, 5, 1, 7, 2, 5, 4,\n",
       "        4, 8, 2, 4, 6, 7, 3, 3, 4, 8, 8, 4, 7, 2, 7, 6, 6, 9, 9, 0, 7, 2,\n",
       "        1, 6, 4, 0, 6, 1, 5, 2, 9, 4]),\n",
       " 'X_unlabelled': array([[ 0.,  0.,  5., ...,  0.,  0.,  0.],\n",
       "        [ 0.,  0.,  0., ..., 10.,  0.,  0.],\n",
       "        [ 0.,  0.,  0., ..., 16.,  9.,  0.],\n",
       "        ...,\n",
       "        [ 0.,  0.,  1., ...,  6.,  0.,  0.],\n",
       "        [ 0.,  0.,  2., ..., 12.,  0.,  0.],\n",
       "        [ 0.,  0., 10., ..., 12.,  1.,  0.]])}"
      ]
     },
     "execution_count": 6,
     "metadata": {},
     "output_type": "execute_result"
    }
   ],
   "source": [
    "train_data"
   ]
  },
  {
   "cell_type": "markdown",
   "metadata": {},
   "source": [
    "Pipeline time!"
   ]
  },
  {
   "cell_type": "markdown",
   "metadata": {},
   "source": [
    "We first define the possible transformers and predictors that we will be using, and wrap them using either the transformer or model wrapper."
   ]
  },
  {
   "cell_type": "code",
   "execution_count": 7,
   "metadata": {},
   "outputs": [],
   "source": [
    "pipeline_objects = {\n",
    "\n",
    "    # fitting the standard scaler on the unlabelled data\n",
    "    # and transforming the labelled and unlabelled data\n",
    "    'standard_scaler': sku.SKTransformerWrapperDD(\n",
    "                            StandardScaler,\n",
    "                            fit_on=['X_unlabelled'],\n",
    "                            transform_on=[['X'], ['X_unlabelled']],\n",
    "                            # any keyword arguments passed here\n",
    "                            # will be given to the StandardScaler object\n",
    "                            ),\n",
    "\n",
    "    # fitting the gbt on the labelled data only\n",
    "    'gbt': sku.SKModelWrapperDD(\n",
    "                            HistGradientBoostingClassifier,\n",
    "                            fit_on=['X', 'y'],\n",
    "                            predict_on=['X'],\n",
    "                            # any keyword arguments passed here\n",
    "                            # will be given to the \n",
    "                            # HistGradientBoostingClassifier object\n",
    "                            )\n",
    "\n",
    "    }"
   ]
  },
  {
   "cell_type": "markdown",
   "metadata": {},
   "source": [
    "The wrappers above allow you to wrap any sklearn transformer or model in a way that allows it to accept a data dictionary in its :code:`.fit()` method."
   ]
  },
  {
   "cell_type": "markdown",
   "metadata": {},
   "source": [
    "Now we can define a pipeline:"
   ]
  },
  {
   "cell_type": "code",
   "execution_count": 8,
   "metadata": {},
   "outputs": [],
   "source": [
    "pipeline_name = 'standard_scaler--gbt'"
   ]
  },
  {
   "cell_type": "markdown",
   "metadata": {},
   "source": [
    "And use the :code:`pipeline_constructor` to build our pipeline:"
   ]
  },
  {
   "cell_type": "code",
   "execution_count": 9,
   "metadata": {},
   "outputs": [],
   "source": [
    "pipeline = sku.pipeline_constructor(pipeline_name, pipeline_objects)"
   ]
  },
  {
   "cell_type": "markdown",
   "metadata": {},
   "source": [
    "This looks like:"
   ]
  },
  {
   "cell_type": "code",
   "execution_count": 10,
   "metadata": {},
   "outputs": [
    {
     "data": {
      "text/html": [
       "<style>#sk-container-id-1 {color: black;background-color: white;}#sk-container-id-1 pre{padding: 0;}#sk-container-id-1 div.sk-toggleable {background-color: white;}#sk-container-id-1 label.sk-toggleable__label {cursor: pointer;display: block;width: 100%;margin-bottom: 0;padding: 0.3em;box-sizing: border-box;text-align: center;}#sk-container-id-1 label.sk-toggleable__label-arrow:before {content: \"▸\";float: left;margin-right: 0.25em;color: #696969;}#sk-container-id-1 label.sk-toggleable__label-arrow:hover:before {color: black;}#sk-container-id-1 div.sk-estimator:hover label.sk-toggleable__label-arrow:before {color: black;}#sk-container-id-1 div.sk-toggleable__content {max-height: 0;max-width: 0;overflow: hidden;text-align: left;background-color: #f0f8ff;}#sk-container-id-1 div.sk-toggleable__content pre {margin: 0.2em;color: black;border-radius: 0.25em;background-color: #f0f8ff;}#sk-container-id-1 input.sk-toggleable__control:checked~div.sk-toggleable__content {max-height: 200px;max-width: 100%;overflow: auto;}#sk-container-id-1 input.sk-toggleable__control:checked~label.sk-toggleable__label-arrow:before {content: \"▾\";}#sk-container-id-1 div.sk-estimator input.sk-toggleable__control:checked~label.sk-toggleable__label {background-color: #d4ebff;}#sk-container-id-1 div.sk-label input.sk-toggleable__control:checked~label.sk-toggleable__label {background-color: #d4ebff;}#sk-container-id-1 input.sk-hidden--visually {border: 0;clip: rect(1px 1px 1px 1px);clip: rect(1px, 1px, 1px, 1px);height: 1px;margin: -1px;overflow: hidden;padding: 0;position: absolute;width: 1px;}#sk-container-id-1 div.sk-estimator {font-family: monospace;background-color: #f0f8ff;border: 1px dotted black;border-radius: 0.25em;box-sizing: border-box;margin-bottom: 0.5em;}#sk-container-id-1 div.sk-estimator:hover {background-color: #d4ebff;}#sk-container-id-1 div.sk-parallel-item::after {content: \"\";width: 100%;border-bottom: 1px solid gray;flex-grow: 1;}#sk-container-id-1 div.sk-label:hover label.sk-toggleable__label {background-color: #d4ebff;}#sk-container-id-1 div.sk-serial::before {content: \"\";position: absolute;border-left: 1px solid gray;box-sizing: border-box;top: 0;bottom: 0;left: 50%;z-index: 0;}#sk-container-id-1 div.sk-serial {display: flex;flex-direction: column;align-items: center;background-color: white;padding-right: 0.2em;padding-left: 0.2em;position: relative;}#sk-container-id-1 div.sk-item {position: relative;z-index: 1;}#sk-container-id-1 div.sk-parallel {display: flex;align-items: stretch;justify-content: center;background-color: white;position: relative;}#sk-container-id-1 div.sk-item::before, #sk-container-id-1 div.sk-parallel-item::before {content: \"\";position: absolute;border-left: 1px solid gray;box-sizing: border-box;top: 0;bottom: 0;left: 50%;z-index: -1;}#sk-container-id-1 div.sk-parallel-item {display: flex;flex-direction: column;z-index: 1;position: relative;background-color: white;}#sk-container-id-1 div.sk-parallel-item:first-child::after {align-self: flex-end;width: 50%;}#sk-container-id-1 div.sk-parallel-item:last-child::after {align-self: flex-start;width: 50%;}#sk-container-id-1 div.sk-parallel-item:only-child::after {width: 0;}#sk-container-id-1 div.sk-dashed-wrapped {border: 1px dashed gray;margin: 0 0.4em 0.5em 0.4em;box-sizing: border-box;padding-bottom: 0.4em;background-color: white;}#sk-container-id-1 div.sk-label label {font-family: monospace;font-weight: bold;display: inline-block;line-height: 1.2em;}#sk-container-id-1 div.sk-label-container {text-align: center;}#sk-container-id-1 div.sk-container {/* jupyter's :code:`normalize.less` sets :code:`[hidden] { display: none; }` but bootstrap.min.css set :code:`[hidden] { display: none !important; }` so we also need the :code:`!important` here to be able to override the default hidden behavior on the sphinx rendered scikit-learn.org. See: https://github.com/scikit-learn/scikit-learn/issues/21755 */display: inline-block !important;position: relative;}#sk-container-id-1 div.sk-text-repr-fallback {display: none;}</style><div id=\"sk-container-id-1\" class=\"sk-top-container\"><div class=\"sk-text-repr-fallback\"><pre>PipelineDD(steps=[[&#x27;standard_scaler&#x27;,\n",
       "                   SKTransformerWrapperDD(copy=True, fit_on=[&#x27;X_unlabelled&#x27;],\n",
       "                                          transform_on=[[&#x27;X&#x27;],\n",
       "                                                        [&#x27;X_unlabelled&#x27;]],\n",
       "                                          transformer=StandardScaler(),\n",
       "                                          with_mean=True, with_std=True)],\n",
       "                  [&#x27;gbt&#x27;,\n",
       "                   SKModelWrapperDD(categorical_features=None,\n",
       "                                    early_stopping=&#x27;auto&#x27;, fit_on=[&#x27;X&#x27;, &#x27;y&#x27;],\n",
       "                                    l2_regularization=0.0, learning_rate=0.1,\n",
       "                                    loss=&#x27;log_loss&#x27;, max_bins=255,\n",
       "                                    max_depth=None, max_iter=100,\n",
       "                                    max_leaf_nodes=31, min_samples_leaf=20,\n",
       "                                    model=HistGradientBoostingClassifier(),\n",
       "                                    monotonic_cst=None, n_iter_no_change=10,\n",
       "                                    predict_on=[&#x27;X&#x27;], random_state=None,\n",
       "                                    scoring=&#x27;loss&#x27;, tol=1e-07,\n",
       "                                    validation_fraction=0.1, verbose=0,\n",
       "                                    warm_start=False)]])</pre><b>In a Jupyter environment, please rerun this cell to show the HTML representation or trust the notebook. <br />On GitHub, the HTML representation is unable to render, please try loading this page with nbviewer.org.</b></div><div class=\"sk-container\" hidden><div class=\"sk-item sk-dashed-wrapped\"><div class=\"sk-label-container\"><div class=\"sk-label sk-toggleable\"><input class=\"sk-toggleable__control sk-hidden--visually\" id=\"sk-estimator-id-1\" type=\"checkbox\" ><label for=\"sk-estimator-id-1\" class=\"sk-toggleable__label sk-toggleable__label-arrow\">PipelineDD</label><div class=\"sk-toggleable__content\"><pre>PipelineDD(steps=[[&#x27;standard_scaler&#x27;,\n",
       "                   SKTransformerWrapperDD(copy=True, fit_on=[&#x27;X_unlabelled&#x27;],\n",
       "                                          transform_on=[[&#x27;X&#x27;],\n",
       "                                                        [&#x27;X_unlabelled&#x27;]],\n",
       "                                          transformer=StandardScaler(),\n",
       "                                          with_mean=True, with_std=True)],\n",
       "                  [&#x27;gbt&#x27;,\n",
       "                   SKModelWrapperDD(categorical_features=None,\n",
       "                                    early_stopping=&#x27;auto&#x27;, fit_on=[&#x27;X&#x27;, &#x27;y&#x27;],\n",
       "                                    l2_regularization=0.0, learning_rate=0.1,\n",
       "                                    loss=&#x27;log_loss&#x27;, max_bins=255,\n",
       "                                    max_depth=None, max_iter=100,\n",
       "                                    max_leaf_nodes=31, min_samples_leaf=20,\n",
       "                                    model=HistGradientBoostingClassifier(),\n",
       "                                    monotonic_cst=None, n_iter_no_change=10,\n",
       "                                    predict_on=[&#x27;X&#x27;], random_state=None,\n",
       "                                    scoring=&#x27;loss&#x27;, tol=1e-07,\n",
       "                                    validation_fraction=0.1, verbose=0,\n",
       "                                    warm_start=False)]])</pre></div></div></div><div class=\"sk-serial\"><div class=\"sk-item sk-dashed-wrapped\"><div class=\"sk-label-container\"><div class=\"sk-label sk-toggleable\"><input class=\"sk-toggleable__control sk-hidden--visually\" id=\"sk-estimator-id-2\" type=\"checkbox\" ><label for=\"sk-estimator-id-2\" class=\"sk-toggleable__label sk-toggleable__label-arrow\">standard_scaler: SKTransformerWrapperDD</label><div class=\"sk-toggleable__content\"><pre>SKTransformerWrapperDD(copy=True, fit_on=[&#x27;X_unlabelled&#x27;],\n",
       "                       transform_on=[[&#x27;X&#x27;], [&#x27;X_unlabelled&#x27;]],\n",
       "                       transformer=StandardScaler(), with_mean=True,\n",
       "                       with_std=True)</pre></div></div></div><div class=\"sk-parallel\"><div class=\"sk-parallel-item\"><div class=\"sk-item\"><div class=\"sk-label-container\"><div class=\"sk-label sk-toggleable\"><input class=\"sk-toggleable__control sk-hidden--visually\" id=\"sk-estimator-id-3\" type=\"checkbox\" ><label for=\"sk-estimator-id-3\" class=\"sk-toggleable__label sk-toggleable__label-arrow\">transformer: StandardScaler</label><div class=\"sk-toggleable__content\"><pre>StandardScaler()</pre></div></div></div><div class=\"sk-serial\"><div class=\"sk-item\"><div class=\"sk-estimator sk-toggleable\"><input class=\"sk-toggleable__control sk-hidden--visually\" id=\"sk-estimator-id-4\" type=\"checkbox\" ><label for=\"sk-estimator-id-4\" class=\"sk-toggleable__label sk-toggleable__label-arrow\">StandardScaler</label><div class=\"sk-toggleable__content\"><pre>StandardScaler()</pre></div></div></div></div></div></div></div></div><div class=\"sk-item sk-dashed-wrapped\"><div class=\"sk-label-container\"><div class=\"sk-label sk-toggleable\"><input class=\"sk-toggleable__control sk-hidden--visually\" id=\"sk-estimator-id-5\" type=\"checkbox\" ><label for=\"sk-estimator-id-5\" class=\"sk-toggleable__label sk-toggleable__label-arrow\">gbt: SKModelWrapperDD</label><div class=\"sk-toggleable__content\"><pre>SKModelWrapperDD(categorical_features=None, early_stopping=&#x27;auto&#x27;,\n",
       "                 fit_on=[&#x27;X&#x27;, &#x27;y&#x27;], l2_regularization=0.0, learning_rate=0.1,\n",
       "                 loss=&#x27;log_loss&#x27;, max_bins=255, max_depth=None, max_iter=100,\n",
       "                 max_leaf_nodes=31, min_samples_leaf=20,\n",
       "                 model=HistGradientBoostingClassifier(), monotonic_cst=None,\n",
       "                 n_iter_no_change=10, predict_on=[&#x27;X&#x27;], random_state=None,\n",
       "                 scoring=&#x27;loss&#x27;, tol=1e-07, validation_fraction=0.1, verbose=0,\n",
       "                 warm_start=False)</pre></div></div></div><div class=\"sk-parallel\"><div class=\"sk-parallel-item\"><div class=\"sk-item\"><div class=\"sk-label-container\"><div class=\"sk-label sk-toggleable\"><input class=\"sk-toggleable__control sk-hidden--visually\" id=\"sk-estimator-id-6\" type=\"checkbox\" ><label for=\"sk-estimator-id-6\" class=\"sk-toggleable__label sk-toggleable__label-arrow\">model: HistGradientBoostingClassifier</label><div class=\"sk-toggleable__content\"><pre>HistGradientBoostingClassifier()</pre></div></div></div><div class=\"sk-serial\"><div class=\"sk-item\"><div class=\"sk-estimator sk-toggleable\"><input class=\"sk-toggleable__control sk-hidden--visually\" id=\"sk-estimator-id-7\" type=\"checkbox\" ><label for=\"sk-estimator-id-7\" class=\"sk-toggleable__label sk-toggleable__label-arrow\">HistGradientBoostingClassifier</label><div class=\"sk-toggleable__content\"><pre>HistGradientBoostingClassifier()</pre></div></div></div></div></div></div></div></div></div></div></div></div>"
      ],
      "text/plain": [
       "PipelineDD(steps=[['standard_scaler',\n",
       "                   SKTransformerWrapperDD(copy=True, fit_on=['X_unlabelled'],\n",
       "                                          transform_on=[['X'],\n",
       "                                                        ['X_unlabelled']],\n",
       "                                          transformer=StandardScaler(),\n",
       "                                          with_mean=True, with_std=True)],\n",
       "                  ['gbt',\n",
       "                   SKModelWrapperDD(categorical_features=None,\n",
       "                                    early_stopping='auto', fit_on=['X', 'y'],\n",
       "                                    l2_regularization=0.0, learning_rate=0.1,\n",
       "                                    loss='log_loss', max_bins=255,\n",
       "                                    max_depth=None, max_iter=100,\n",
       "                                    max_leaf_nodes=31, min_samples_leaf=20,\n",
       "                                    model=HistGradientBoostingClassifier(),\n",
       "                                    monotonic_cst=None, n_iter_no_change=10,\n",
       "                                    predict_on=['X'], random_state=None,\n",
       "                                    scoring='loss', tol=1e-07,\n",
       "                                    validation_fraction=0.1, verbose=0,\n",
       "                                    warm_start=False)]])"
      ]
     },
     "execution_count": 10,
     "metadata": {},
     "output_type": "execute_result"
    }
   ],
   "source": [
    "pipeline"
   ]
  },
  {
   "cell_type": "markdown",
   "metadata": {},
   "source": [
    "It is now as easy as sklearn to fit and predict using this pipeline:"
   ]
  },
  {
   "cell_type": "code",
   "execution_count": 11,
   "metadata": {},
   "outputs": [
    {
     "data": {
      "text/html": [
       "<style>#sk-container-id-2 {color: black;background-color: white;}#sk-container-id-2 pre{padding: 0;}#sk-container-id-2 div.sk-toggleable {background-color: white;}#sk-container-id-2 label.sk-toggleable__label {cursor: pointer;display: block;width: 100%;margin-bottom: 0;padding: 0.3em;box-sizing: border-box;text-align: center;}#sk-container-id-2 label.sk-toggleable__label-arrow:before {content: \"▸\";float: left;margin-right: 0.25em;color: #696969;}#sk-container-id-2 label.sk-toggleable__label-arrow:hover:before {color: black;}#sk-container-id-2 div.sk-estimator:hover label.sk-toggleable__label-arrow:before {color: black;}#sk-container-id-2 div.sk-toggleable__content {max-height: 0;max-width: 0;overflow: hidden;text-align: left;background-color: #f0f8ff;}#sk-container-id-2 div.sk-toggleable__content pre {margin: 0.2em;color: black;border-radius: 0.25em;background-color: #f0f8ff;}#sk-container-id-2 input.sk-toggleable__control:checked~div.sk-toggleable__content {max-height: 200px;max-width: 100%;overflow: auto;}#sk-container-id-2 input.sk-toggleable__control:checked~label.sk-toggleable__label-arrow:before {content: \"▾\";}#sk-container-id-2 div.sk-estimator input.sk-toggleable__control:checked~label.sk-toggleable__label {background-color: #d4ebff;}#sk-container-id-2 div.sk-label input.sk-toggleable__control:checked~label.sk-toggleable__label {background-color: #d4ebff;}#sk-container-id-2 input.sk-hidden--visually {border: 0;clip: rect(1px 1px 1px 1px);clip: rect(1px, 1px, 1px, 1px);height: 1px;margin: -1px;overflow: hidden;padding: 0;position: absolute;width: 1px;}#sk-container-id-2 div.sk-estimator {font-family: monospace;background-color: #f0f8ff;border: 1px dotted black;border-radius: 0.25em;box-sizing: border-box;margin-bottom: 0.5em;}#sk-container-id-2 div.sk-estimator:hover {background-color: #d4ebff;}#sk-container-id-2 div.sk-parallel-item::after {content: \"\";width: 100%;border-bottom: 1px solid gray;flex-grow: 1;}#sk-container-id-2 div.sk-label:hover label.sk-toggleable__label {background-color: #d4ebff;}#sk-container-id-2 div.sk-serial::before {content: \"\";position: absolute;border-left: 1px solid gray;box-sizing: border-box;top: 0;bottom: 0;left: 50%;z-index: 0;}#sk-container-id-2 div.sk-serial {display: flex;flex-direction: column;align-items: center;background-color: white;padding-right: 0.2em;padding-left: 0.2em;position: relative;}#sk-container-id-2 div.sk-item {position: relative;z-index: 1;}#sk-container-id-2 div.sk-parallel {display: flex;align-items: stretch;justify-content: center;background-color: white;position: relative;}#sk-container-id-2 div.sk-item::before, #sk-container-id-2 div.sk-parallel-item::before {content: \"\";position: absolute;border-left: 1px solid gray;box-sizing: border-box;top: 0;bottom: 0;left: 50%;z-index: -1;}#sk-container-id-2 div.sk-parallel-item {display: flex;flex-direction: column;z-index: 1;position: relative;background-color: white;}#sk-container-id-2 div.sk-parallel-item:first-child::after {align-self: flex-end;width: 50%;}#sk-container-id-2 div.sk-parallel-item:last-child::after {align-self: flex-start;width: 50%;}#sk-container-id-2 div.sk-parallel-item:only-child::after {width: 0;}#sk-container-id-2 div.sk-dashed-wrapped {border: 1px dashed gray;margin: 0 0.4em 0.5em 0.4em;box-sizing: border-box;padding-bottom: 0.4em;background-color: white;}#sk-container-id-2 div.sk-label label {font-family: monospace;font-weight: bold;display: inline-block;line-height: 1.2em;}#sk-container-id-2 div.sk-label-container {text-align: center;}#sk-container-id-2 div.sk-container {/* jupyter's :code:`normalize.less` sets :code:`[hidden] { display: none; }` but bootstrap.min.css set :code:`[hidden] { display: none !important; }` so we also need the :code:`!important` here to be able to override the default hidden behavior on the sphinx rendered scikit-learn.org. See: https://github.com/scikit-learn/scikit-learn/issues/21755 */display: inline-block !important;position: relative;}#sk-container-id-2 div.sk-text-repr-fallback {display: none;}</style><div id=\"sk-container-id-2\" class=\"sk-top-container\"><div class=\"sk-text-repr-fallback\"><pre>PipelineDD(steps=[(&#x27;standard_scaler&#x27;,\n",
       "                   SKTransformerWrapperDD(copy=True, fit_on=[&#x27;X_unlabelled&#x27;],\n",
       "                                          transform_on=[[&#x27;X&#x27;],\n",
       "                                                        [&#x27;X_unlabelled&#x27;]],\n",
       "                                          transformer=StandardScaler(),\n",
       "                                          with_mean=True, with_std=True)),\n",
       "                  [&#x27;gbt&#x27;,\n",
       "                   SKModelWrapperDD(categorical_features=None,\n",
       "                                    early_stopping=&#x27;auto&#x27;, fit_on=[&#x27;X&#x27;, &#x27;y&#x27;],\n",
       "                                    l2_regularization=0.0, learning_rate=0.1,\n",
       "                                    loss=&#x27;log_loss&#x27;, max_bins=255,\n",
       "                                    max_depth=None, max_iter=100,\n",
       "                                    max_leaf_nodes=31, min_samples_leaf=20,\n",
       "                                    model=HistGradientBoostingClassifier(),\n",
       "                                    monotonic_cst=None, n_iter_no_change=10,\n",
       "                                    predict_on=[&#x27;X&#x27;], random_state=None,\n",
       "                                    scoring=&#x27;loss&#x27;, tol=1e-07,\n",
       "                                    validation_fraction=0.1, verbose=0,\n",
       "                                    warm_start=False)]])</pre><b>In a Jupyter environment, please rerun this cell to show the HTML representation or trust the notebook. <br />On GitHub, the HTML representation is unable to render, please try loading this page with nbviewer.org.</b></div><div class=\"sk-container\" hidden><div class=\"sk-item sk-dashed-wrapped\"><div class=\"sk-label-container\"><div class=\"sk-label sk-toggleable\"><input class=\"sk-toggleable__control sk-hidden--visually\" id=\"sk-estimator-id-8\" type=\"checkbox\" ><label for=\"sk-estimator-id-8\" class=\"sk-toggleable__label sk-toggleable__label-arrow\">PipelineDD</label><div class=\"sk-toggleable__content\"><pre>PipelineDD(steps=[(&#x27;standard_scaler&#x27;,\n",
       "                   SKTransformerWrapperDD(copy=True, fit_on=[&#x27;X_unlabelled&#x27;],\n",
       "                                          transform_on=[[&#x27;X&#x27;],\n",
       "                                                        [&#x27;X_unlabelled&#x27;]],\n",
       "                                          transformer=StandardScaler(),\n",
       "                                          with_mean=True, with_std=True)),\n",
       "                  [&#x27;gbt&#x27;,\n",
       "                   SKModelWrapperDD(categorical_features=None,\n",
       "                                    early_stopping=&#x27;auto&#x27;, fit_on=[&#x27;X&#x27;, &#x27;y&#x27;],\n",
       "                                    l2_regularization=0.0, learning_rate=0.1,\n",
       "                                    loss=&#x27;log_loss&#x27;, max_bins=255,\n",
       "                                    max_depth=None, max_iter=100,\n",
       "                                    max_leaf_nodes=31, min_samples_leaf=20,\n",
       "                                    model=HistGradientBoostingClassifier(),\n",
       "                                    monotonic_cst=None, n_iter_no_change=10,\n",
       "                                    predict_on=[&#x27;X&#x27;], random_state=None,\n",
       "                                    scoring=&#x27;loss&#x27;, tol=1e-07,\n",
       "                                    validation_fraction=0.1, verbose=0,\n",
       "                                    warm_start=False)]])</pre></div></div></div><div class=\"sk-serial\"><div class=\"sk-item sk-dashed-wrapped\"><div class=\"sk-label-container\"><div class=\"sk-label sk-toggleable\"><input class=\"sk-toggleable__control sk-hidden--visually\" id=\"sk-estimator-id-9\" type=\"checkbox\" ><label for=\"sk-estimator-id-9\" class=\"sk-toggleable__label sk-toggleable__label-arrow\">standard_scaler: SKTransformerWrapperDD</label><div class=\"sk-toggleable__content\"><pre>SKTransformerWrapperDD(copy=True, fit_on=[&#x27;X_unlabelled&#x27;],\n",
       "                       transform_on=[[&#x27;X&#x27;], [&#x27;X_unlabelled&#x27;]],\n",
       "                       transformer=StandardScaler(), with_mean=True,\n",
       "                       with_std=True)</pre></div></div></div><div class=\"sk-parallel\"><div class=\"sk-parallel-item\"><div class=\"sk-item\"><div class=\"sk-label-container\"><div class=\"sk-label sk-toggleable\"><input class=\"sk-toggleable__control sk-hidden--visually\" id=\"sk-estimator-id-10\" type=\"checkbox\" ><label for=\"sk-estimator-id-10\" class=\"sk-toggleable__label sk-toggleable__label-arrow\">transformer: StandardScaler</label><div class=\"sk-toggleable__content\"><pre>StandardScaler()</pre></div></div></div><div class=\"sk-serial\"><div class=\"sk-item\"><div class=\"sk-estimator sk-toggleable\"><input class=\"sk-toggleable__control sk-hidden--visually\" id=\"sk-estimator-id-11\" type=\"checkbox\" ><label for=\"sk-estimator-id-11\" class=\"sk-toggleable__label sk-toggleable__label-arrow\">StandardScaler</label><div class=\"sk-toggleable__content\"><pre>StandardScaler()</pre></div></div></div></div></div></div></div></div><div class=\"sk-item sk-dashed-wrapped\"><div class=\"sk-label-container\"><div class=\"sk-label sk-toggleable\"><input class=\"sk-toggleable__control sk-hidden--visually\" id=\"sk-estimator-id-12\" type=\"checkbox\" ><label for=\"sk-estimator-id-12\" class=\"sk-toggleable__label sk-toggleable__label-arrow\">gbt: SKModelWrapperDD</label><div class=\"sk-toggleable__content\"><pre>SKModelWrapperDD(categorical_features=None, early_stopping=&#x27;auto&#x27;,\n",
       "                 fit_on=[&#x27;X&#x27;, &#x27;y&#x27;], l2_regularization=0.0, learning_rate=0.1,\n",
       "                 loss=&#x27;log_loss&#x27;, max_bins=255, max_depth=None, max_iter=100,\n",
       "                 max_leaf_nodes=31, min_samples_leaf=20,\n",
       "                 model=HistGradientBoostingClassifier(), monotonic_cst=None,\n",
       "                 n_iter_no_change=10, predict_on=[&#x27;X&#x27;], random_state=None,\n",
       "                 scoring=&#x27;loss&#x27;, tol=1e-07, validation_fraction=0.1, verbose=0,\n",
       "                 warm_start=False)</pre></div></div></div><div class=\"sk-parallel\"><div class=\"sk-parallel-item\"><div class=\"sk-item\"><div class=\"sk-label-container\"><div class=\"sk-label sk-toggleable\"><input class=\"sk-toggleable__control sk-hidden--visually\" id=\"sk-estimator-id-13\" type=\"checkbox\" ><label for=\"sk-estimator-id-13\" class=\"sk-toggleable__label sk-toggleable__label-arrow\">model: HistGradientBoostingClassifier</label><div class=\"sk-toggleable__content\"><pre>HistGradientBoostingClassifier()</pre></div></div></div><div class=\"sk-serial\"><div class=\"sk-item\"><div class=\"sk-estimator sk-toggleable\"><input class=\"sk-toggleable__control sk-hidden--visually\" id=\"sk-estimator-id-14\" type=\"checkbox\" ><label for=\"sk-estimator-id-14\" class=\"sk-toggleable__label sk-toggleable__label-arrow\">HistGradientBoostingClassifier</label><div class=\"sk-toggleable__content\"><pre>HistGradientBoostingClassifier()</pre></div></div></div></div></div></div></div></div></div></div></div></div>"
      ],
      "text/plain": [
       "PipelineDD(steps=[('standard_scaler',\n",
       "                   SKTransformerWrapperDD(copy=True, fit_on=['X_unlabelled'],\n",
       "                                          transform_on=[['X'],\n",
       "                                                        ['X_unlabelled']],\n",
       "                                          transformer=StandardScaler(),\n",
       "                                          with_mean=True, with_std=True)),\n",
       "                  ['gbt',\n",
       "                   SKModelWrapperDD(categorical_features=None,\n",
       "                                    early_stopping='auto', fit_on=['X', 'y'],\n",
       "                                    l2_regularization=0.0, learning_rate=0.1,\n",
       "                                    loss='log_loss', max_bins=255,\n",
       "                                    max_depth=None, max_iter=100,\n",
       "                                    max_leaf_nodes=31, min_samples_leaf=20,\n",
       "                                    model=HistGradientBoostingClassifier(),\n",
       "                                    monotonic_cst=None, n_iter_no_change=10,\n",
       "                                    predict_on=['X'], random_state=None,\n",
       "                                    scoring='loss', tol=1e-07,\n",
       "                                    validation_fraction=0.1, verbose=0,\n",
       "                                    warm_start=False)]])"
      ]
     },
     "execution_count": 11,
     "metadata": {},
     "output_type": "execute_result"
    }
   ],
   "source": [
    "pipeline.fit(X = train_data)"
   ]
  },
  {
   "cell_type": "code",
   "execution_count": 12,
   "metadata": {},
   "outputs": [
    {
     "data": {
      "text/plain": [
       "array([6, 2, 5, 2, 4, 7, 9, 9, 1, 0, 1, 3, 4, 6, 5, 8, 2, 0, 2, 6, 1, 7,\n",
       "       6, 3, 5, 6, 8, 2, 7, 9, 0, 1, 3, 6, 7, 8, 1, 2, 8, 9, 5, 9, 8, 4,\n",
       "       3, 2, 3, 3, 4, 5, 2, 0, 3, 1, 3, 9, 6, 1, 4, 6, 4, 7, 5, 4, 1, 2,\n",
       "       3, 8, 9, 2, 7, 0, 5, 6, 8, 8, 8, 4, 7, 3, 0, 2, 2, 6, 6, 0, 9, 5,\n",
       "       0, 1, 6, 3, 9, 8, 4, 4, 6, 2, 8, 5, 5, 7, 1, 3, 4, 6, 2, 4, 5, 7,\n",
       "       8, 9, 5, 9, 0, 2, 3, 7, 6, 0, 7, 4, 6, 7, 8, 7, 5, 4, 4, 7, 4, 6,\n",
       "       1, 6, 6, 8, 5, 1, 2, 2, 3, 6, 1, 5, 0, 0, 7, 3, 4, 4, 6, 6, 7, 5,\n",
       "       7, 8, 0, 8, 9, 6, 1, 3, 4, 5, 1, 3, 4, 5, 7, 8, 0, 5, 6, 1, 0, 2,\n",
       "       7, 3, 4, 6, 9, 1, 0, 5, 2, 1, 8, 1, 4, 9, 6, 8, 2, 7, 0, 8, 9, 5,\n",
       "       7, 9, 5, 0, 1, 7, 5, 6, 8, 3, 5, 0, 2, 2, 2, 3, 4, 6, 9, 2, 8, 2,\n",
       "       1, 6, 3, 0, 6, 6, 8, 0, 8, 2, 3, 3, 4, 5, 9, 5, 8, 9, 8, 7, 1, 6,\n",
       "       4, 2, 4, 6, 3, 1, 3, 0, 4, 7, 8, 4, 9, 9, 3, 7, 9, 1, 4, 6, 1, 3,\n",
       "       6, 9, 5, 5, 8, 9, 3, 5, 2, 3, 3, 6, 8, 1, 1, 3, 9, 7, 6, 3, 7, 4,\n",
       "       8, 4, 9, 1, 7, 8, 7, 0, 2, 7, 5, 0, 8, 7, 3, 7, 3, 4, 6, 6, 9, 5,\n",
       "       2, 2, 0, 1, 1, 4, 5, 9, 7, 4, 2, 5, 8, 4, 0, 2, 6, 5, 8, 0, 1, 7,\n",
       "       9, 0, 5, 4, 7, 6, 3, 4, 6, 4, 9, 5, 2, 0, 7, 6, 3, 9, 3, 6, 4, 8,\n",
       "       2, 5, 0, 1, 8, 0, 4, 6, 9, 2, 4, 6, 8, 0, 9, 7, 3, 0, 8, 2, 6, 3,\n",
       "       4, 2, 0, 1, 7, 1, 3, 7, 6, 4, 1, 3, 6, 1, 7, 2, 4, 9, 6, 9, 5, 0,\n",
       "       1, 2, 6, 1, 5, 0, 2, 3, 6, 6, 3, 2, 4, 9, 1, 6, 5, 1, 7, 2, 5, 4,\n",
       "       4, 8, 2, 4, 6, 7, 3, 3, 4, 8, 8, 4, 7, 2, 7, 6, 6, 9, 9, 0, 7, 2,\n",
       "       1, 6, 4, 0, 6, 1, 5, 2, 9, 4])"
      ]
     },
     "execution_count": 12,
     "metadata": {},
     "output_type": "execute_result"
    }
   ],
   "source": [
    "pipeline.predict(X = train_data)"
   ]
  },
  {
   "cell_type": "markdown",
   "metadata": {},
   "source": [
    "And you can even score, by passing the key for the targets:"
   ]
  },
  {
   "cell_type": "code",
   "execution_count": 13,
   "metadata": {},
   "outputs": [
    {
     "name": "stdout",
     "output_type": "stream",
     "text": [
      "The accuracy on the training data was: 100.0%\n"
     ]
    }
   ],
   "source": [
    "print(f\"The accuracy on the training data was: {pipeline.score(train_data, 'y')*100}%\")"
   ]
  },
  {
   "cell_type": "markdown",
   "metadata": {},
   "source": [
    "But what about trying multiple pipelines?"
   ]
  },
  {
   "cell_type": "code",
   "execution_count": 14,
   "metadata": {},
   "outputs": [],
   "source": [
    "# set the pipeline names to test\n",
    "pipeline_names = [\n",
    "                    'standard_scaler--gbt',\n",
    "                    'gbt',\n",
    "                    ]"
   ]
  },
  {
   "cell_type": "markdown",
   "metadata": {},
   "source": [
    "These can also be run in parallel by specifying :code:`n_jobs:"
   ]
  },
  {
   "cell_type": "code",
   "execution_count": 15,
   "metadata": {},
   "outputs": [],
   "source": [
    "pscv = sku.PipelineSearchCV(\n",
    "        pipeline_names=pipeline_names,\n",
    "        name_to_object=pipeline_objects,\n",
    "        metrics={'accuracy':accuracy_score},\n",
    "        cv=StratifiedKFold(n_splits=5, shuffle=True),\n",
    "        split_fit_on=['X','y'],\n",
    "        split_transform_on=['X','y'],\n",
    "        verbose=True,\n",
    "        n_jobs=2\n",
    "        )"
   ]
  },
  {
   "cell_type": "code",
   "execution_count": 16,
   "metadata": {},
   "outputs": [
    {
     "data": {
      "text/html": [
       "<style>#sk-container-id-3 {color: black;background-color: white;}#sk-container-id-3 pre{padding: 0;}#sk-container-id-3 div.sk-toggleable {background-color: white;}#sk-container-id-3 label.sk-toggleable__label {cursor: pointer;display: block;width: 100%;margin-bottom: 0;padding: 0.3em;box-sizing: border-box;text-align: center;}#sk-container-id-3 label.sk-toggleable__label-arrow:before {content: \"▸\";float: left;margin-right: 0.25em;color: #696969;}#sk-container-id-3 label.sk-toggleable__label-arrow:hover:before {color: black;}#sk-container-id-3 div.sk-estimator:hover label.sk-toggleable__label-arrow:before {color: black;}#sk-container-id-3 div.sk-toggleable__content {max-height: 0;max-width: 0;overflow: hidden;text-align: left;background-color: #f0f8ff;}#sk-container-id-3 div.sk-toggleable__content pre {margin: 0.2em;color: black;border-radius: 0.25em;background-color: #f0f8ff;}#sk-container-id-3 input.sk-toggleable__control:checked~div.sk-toggleable__content {max-height: 200px;max-width: 100%;overflow: auto;}#sk-container-id-3 input.sk-toggleable__control:checked~label.sk-toggleable__label-arrow:before {content: \"▾\";}#sk-container-id-3 div.sk-estimator input.sk-toggleable__control:checked~label.sk-toggleable__label {background-color: #d4ebff;}#sk-container-id-3 div.sk-label input.sk-toggleable__control:checked~label.sk-toggleable__label {background-color: #d4ebff;}#sk-container-id-3 input.sk-hidden--visually {border: 0;clip: rect(1px 1px 1px 1px);clip: rect(1px, 1px, 1px, 1px);height: 1px;margin: -1px;overflow: hidden;padding: 0;position: absolute;width: 1px;}#sk-container-id-3 div.sk-estimator {font-family: monospace;background-color: #f0f8ff;border: 1px dotted black;border-radius: 0.25em;box-sizing: border-box;margin-bottom: 0.5em;}#sk-container-id-3 div.sk-estimator:hover {background-color: #d4ebff;}#sk-container-id-3 div.sk-parallel-item::after {content: \"\";width: 100%;border-bottom: 1px solid gray;flex-grow: 1;}#sk-container-id-3 div.sk-label:hover label.sk-toggleable__label {background-color: #d4ebff;}#sk-container-id-3 div.sk-serial::before {content: \"\";position: absolute;border-left: 1px solid gray;box-sizing: border-box;top: 0;bottom: 0;left: 50%;z-index: 0;}#sk-container-id-3 div.sk-serial {display: flex;flex-direction: column;align-items: center;background-color: white;padding-right: 0.2em;padding-left: 0.2em;position: relative;}#sk-container-id-3 div.sk-item {position: relative;z-index: 1;}#sk-container-id-3 div.sk-parallel {display: flex;align-items: stretch;justify-content: center;background-color: white;position: relative;}#sk-container-id-3 div.sk-item::before, #sk-container-id-3 div.sk-parallel-item::before {content: \"\";position: absolute;border-left: 1px solid gray;box-sizing: border-box;top: 0;bottom: 0;left: 50%;z-index: -1;}#sk-container-id-3 div.sk-parallel-item {display: flex;flex-direction: column;z-index: 1;position: relative;background-color: white;}#sk-container-id-3 div.sk-parallel-item:first-child::after {align-self: flex-end;width: 50%;}#sk-container-id-3 div.sk-parallel-item:last-child::after {align-self: flex-start;width: 50%;}#sk-container-id-3 div.sk-parallel-item:only-child::after {width: 0;}#sk-container-id-3 div.sk-dashed-wrapped {border: 1px dashed gray;margin: 0 0.4em 0.5em 0.4em;box-sizing: border-box;padding-bottom: 0.4em;background-color: white;}#sk-container-id-3 div.sk-label label {font-family: monospace;font-weight: bold;display: inline-block;line-height: 1.2em;}#sk-container-id-3 div.sk-label-container {text-align: center;}#sk-container-id-3 div.sk-container {/* jupyter's :code:`normalize.less` sets :code:`[hidden] { display: none; }` but bootstrap.min.css set :code:`[hidden] { display: none !important; }` so we also need the :code:`!important` here to be able to override the default hidden behavior on the sphinx rendered scikit-learn.org. See: https://github.com/scikit-learn/scikit-learn/issues/21755 */display: inline-block !important;position: relative;}#sk-container-id-3 div.sk-text-repr-fallback {display: none;}</style><div id=\"sk-container-id-3\" class=\"sk-top-container\"><div class=\"sk-text-repr-fallback\"><pre>PipelineSearchCV(cv=StratifiedKFold(n_splits=5, random_state=None, shuffle=True),\n",
       "                 metrics={&#x27;accuracy&#x27;: &lt;function accuracy_score at 0x00000224FA6A7A60&gt;},\n",
       "                 n_jobs=2,\n",
       "                 name_to_object={&#x27;gbt&#x27;: SKModelWrapperDD(categorical_features=None,\n",
       "                                                         early_stopping=&#x27;auto&#x27;,\n",
       "                                                         fit_on=[&#x27;X&#x27;, &#x27;y&#x27;],\n",
       "                                                         l2_regularization=0.0,\n",
       "                                                         learning_rate=0.1,\n",
       "                                                         loss=&#x27;log_loss&#x27;,\n",
       "                                                         max_bins=255,\n",
       "                                                         max_depth=None,\n",
       "                                                         max_iter...\n",
       "                                                         predict_on=[&#x27;X&#x27;],\n",
       "                                                         random_state=None,\n",
       "                                                         scoring=&#x27;loss&#x27;,\n",
       "                                                         tol=1e-07,\n",
       "                                                         validation_fraction=0.1,\n",
       "                                                         verbose=0,\n",
       "                                                         warm_start=False),\n",
       "                                 &#x27;standard_scaler&#x27;: SKTransformerWrapperDD(copy=True,\n",
       "                                                                           fit_on=[&#x27;X_unlabelled&#x27;],\n",
       "                                                                           transform_on=[[&#x27;X&#x27;],\n",
       "                                                                                         [&#x27;X_unlabelled&#x27;]],\n",
       "                                                                           transformer=StandardScaler(),\n",
       "                                                                           with_mean=True,\n",
       "                                                                           with_std=True)},\n",
       "                 param_grid=[None],\n",
       "                 pipeline_names=[&#x27;standard_scaler--gbt&#x27;, &#x27;gbt&#x27;], verbose=True)</pre><b>In a Jupyter environment, please rerun this cell to show the HTML representation or trust the notebook. <br />On GitHub, the HTML representation is unable to render, please try loading this page with nbviewer.org.</b></div><div class=\"sk-container\" hidden><div class=\"sk-item\"><div class=\"sk-estimator sk-toggleable\"><input class=\"sk-toggleable__control sk-hidden--visually\" id=\"sk-estimator-id-15\" type=\"checkbox\" checked><label for=\"sk-estimator-id-15\" class=\"sk-toggleable__label sk-toggleable__label-arrow\">PipelineSearchCV</label><div class=\"sk-toggleable__content\"><pre>PipelineSearchCV(cv=StratifiedKFold(n_splits=5, random_state=None, shuffle=True),\n",
       "                 metrics={&#x27;accuracy&#x27;: &lt;function accuracy_score at 0x00000224FA6A7A60&gt;},\n",
       "                 n_jobs=2,\n",
       "                 name_to_object={&#x27;gbt&#x27;: SKModelWrapperDD(categorical_features=None,\n",
       "                                                         early_stopping=&#x27;auto&#x27;,\n",
       "                                                         fit_on=[&#x27;X&#x27;, &#x27;y&#x27;],\n",
       "                                                         l2_regularization=0.0,\n",
       "                                                         learning_rate=0.1,\n",
       "                                                         loss=&#x27;log_loss&#x27;,\n",
       "                                                         max_bins=255,\n",
       "                                                         max_depth=None,\n",
       "                                                         max_iter...\n",
       "                                                         predict_on=[&#x27;X&#x27;],\n",
       "                                                         random_state=None,\n",
       "                                                         scoring=&#x27;loss&#x27;,\n",
       "                                                         tol=1e-07,\n",
       "                                                         validation_fraction=0.1,\n",
       "                                                         verbose=0,\n",
       "                                                         warm_start=False),\n",
       "                                 &#x27;standard_scaler&#x27;: SKTransformerWrapperDD(copy=True,\n",
       "                                                                           fit_on=[&#x27;X_unlabelled&#x27;],\n",
       "                                                                           transform_on=[[&#x27;X&#x27;],\n",
       "                                                                                         [&#x27;X_unlabelled&#x27;]],\n",
       "                                                                           transformer=StandardScaler(),\n",
       "                                                                           with_mean=True,\n",
       "                                                                           with_std=True)},\n",
       "                 param_grid=[None],\n",
       "                 pipeline_names=[&#x27;standard_scaler--gbt&#x27;, &#x27;gbt&#x27;], verbose=True)</pre></div></div></div></div></div>"
      ],
      "text/plain": [
       "PipelineSearchCV(cv=StratifiedKFold(n_splits=5, random_state=None, shuffle=True),\n",
       "                 metrics={'accuracy': <function accuracy_score at 0x00000224FA6A7A60>},\n",
       "                 n_jobs=2,\n",
       "                 name_to_object={'gbt': SKModelWrapperDD(categorical_features=None,\n",
       "                                                         early_stopping='auto',\n",
       "                                                         fit_on=['X', 'y'],\n",
       "                                                         l2_regularization=0.0,\n",
       "                                                         learning_rate=0.1,\n",
       "                                                         loss='log_loss',\n",
       "                                                         max_bins=255,\n",
       "                                                         max_depth=None,\n",
       "                                                         max_iter...\n",
       "                                                         predict_on=['X'],\n",
       "                                                         random_state=None,\n",
       "                                                         scoring='loss',\n",
       "                                                         tol=1e-07,\n",
       "                                                         validation_fraction=0.1,\n",
       "                                                         verbose=0,\n",
       "                                                         warm_start=False),\n",
       "                                 'standard_scaler': SKTransformerWrapperDD(copy=True,\n",
       "                                                                           fit_on=['X_unlabelled'],\n",
       "                                                                           transform_on=[['X'],\n",
       "                                                                                         ['X_unlabelled']],\n",
       "                                                                           transformer=StandardScaler(),\n",
       "                                                                           with_mean=True,\n",
       "                                                                           with_std=True)},\n",
       "                 param_grid=[None],\n",
       "                 pipeline_names=['standard_scaler--gbt', 'gbt'], verbose=True)"
      ]
     },
     "execution_count": 16,
     "metadata": {},
     "output_type": "execute_result"
    }
   ],
   "source": [
    "pscv"
   ]
  },
  {
   "cell_type": "markdown",
   "metadata": {},
   "source": [
    "We must also tell the pipeline searcher which key it should use for the targets when calculating the metrics."
   ]
  },
  {
   "cell_type": "code",
   "execution_count": 17,
   "metadata": {},
   "outputs": [
    {
     "name": "stderr",
     "output_type": "stream",
     "text": [
      "Searching: 100%|▉▉▉▉▉▉▉▉▉▉| 10/10 [00:13<00:00,  1.31s/it]\n"
     ]
    }
   ],
   "source": [
    "results = pscv.fit(X=train_data, y='y')"
   ]
  },
  {
   "cell_type": "code",
   "execution_count": 18,
   "metadata": {},
   "outputs": [
    {
     "data": {
      "text/html": [
       "<div>\n",
       "<style scoped>\n",
       "    .dataframe tbody tr th:only-of-type {\n",
       "        vertical-align: middle;\n",
       "    }\n",
       "\n",
       "    .dataframe tbody tr th {\n",
       "        vertical-align: top;\n",
       "    }\n",
       "\n",
       "    .dataframe thead th {\n",
       "        text-align: right;\n",
       "    }\n",
       "</style>\n",
       "<table border=\"1\" class=\"dataframe\">\n",
       "  <thead>\n",
       "    <tr style=\"text-align: right;\">\n",
       "      <th></th>\n",
       "      <th>pipeline</th>\n",
       "      <th>split_number</th>\n",
       "      <th>train_or_test</th>\n",
       "      <th>metric</th>\n",
       "      <th>value</th>\n",
       "      <th>splitter</th>\n",
       "      <th>params</th>\n",
       "      <th>train_id</th>\n",
       "      <th>param_updates</th>\n",
       "    </tr>\n",
       "  </thead>\n",
       "  <tbody>\n",
       "    <tr>\n",
       "      <th>0</th>\n",
       "      <td>standard_scaler--gbt</td>\n",
       "      <td>0</td>\n",
       "      <td>test</td>\n",
       "      <td>accuracy</td>\n",
       "      <td>0.933333</td>\n",
       "      <td>StratifiedKFold</td>\n",
       "      <td>{'memory': None, 'steps': [['standard_scaler',...</td>\n",
       "      <td>0520099d-17f9-4315-9226-e13fcd4f0777</td>\n",
       "      <td>None</td>\n",
       "    </tr>\n",
       "    <tr>\n",
       "      <th>1</th>\n",
       "      <td>standard_scaler--gbt</td>\n",
       "      <td>0</td>\n",
       "      <td>train</td>\n",
       "      <td>accuracy</td>\n",
       "      <td>1.000000</td>\n",
       "      <td>StratifiedKFold</td>\n",
       "      <td>{'memory': None, 'steps': [['standard_scaler',...</td>\n",
       "      <td>0520099d-17f9-4315-9226-e13fcd4f0777</td>\n",
       "      <td>None</td>\n",
       "    </tr>\n",
       "    <tr>\n",
       "      <th>2</th>\n",
       "      <td>standard_scaler--gbt</td>\n",
       "      <td>1</td>\n",
       "      <td>test</td>\n",
       "      <td>accuracy</td>\n",
       "      <td>0.900000</td>\n",
       "      <td>StratifiedKFold</td>\n",
       "      <td>{'memory': None, 'steps': [['standard_scaler',...</td>\n",
       "      <td>0520099d-17f9-4315-9226-e13fcd4f0777</td>\n",
       "      <td>None</td>\n",
       "    </tr>\n",
       "    <tr>\n",
       "      <th>3</th>\n",
       "      <td>standard_scaler--gbt</td>\n",
       "      <td>1</td>\n",
       "      <td>train</td>\n",
       "      <td>accuracy</td>\n",
       "      <td>1.000000</td>\n",
       "      <td>StratifiedKFold</td>\n",
       "      <td>{'memory': None, 'steps': [['standard_scaler',...</td>\n",
       "      <td>0520099d-17f9-4315-9226-e13fcd4f0777</td>\n",
       "      <td>None</td>\n",
       "    </tr>\n",
       "    <tr>\n",
       "      <th>4</th>\n",
       "      <td>standard_scaler--gbt</td>\n",
       "      <td>2</td>\n",
       "      <td>test</td>\n",
       "      <td>accuracy</td>\n",
       "      <td>0.977778</td>\n",
       "      <td>StratifiedKFold</td>\n",
       "      <td>{'memory': None, 'steps': [['standard_scaler',...</td>\n",
       "      <td>0520099d-17f9-4315-9226-e13fcd4f0777</td>\n",
       "      <td>None</td>\n",
       "    </tr>\n",
       "    <tr>\n",
       "      <th>5</th>\n",
       "      <td>standard_scaler--gbt</td>\n",
       "      <td>2</td>\n",
       "      <td>train</td>\n",
       "      <td>accuracy</td>\n",
       "      <td>1.000000</td>\n",
       "      <td>StratifiedKFold</td>\n",
       "      <td>{'memory': None, 'steps': [['standard_scaler',...</td>\n",
       "      <td>0520099d-17f9-4315-9226-e13fcd4f0777</td>\n",
       "      <td>None</td>\n",
       "    </tr>\n",
       "    <tr>\n",
       "      <th>6</th>\n",
       "      <td>standard_scaler--gbt</td>\n",
       "      <td>3</td>\n",
       "      <td>test</td>\n",
       "      <td>accuracy</td>\n",
       "      <td>0.922222</td>\n",
       "      <td>StratifiedKFold</td>\n",
       "      <td>{'memory': None, 'steps': [['standard_scaler',...</td>\n",
       "      <td>0520099d-17f9-4315-9226-e13fcd4f0777</td>\n",
       "      <td>None</td>\n",
       "    </tr>\n",
       "    <tr>\n",
       "      <th>7</th>\n",
       "      <td>standard_scaler--gbt</td>\n",
       "      <td>3</td>\n",
       "      <td>train</td>\n",
       "      <td>accuracy</td>\n",
       "      <td>1.000000</td>\n",
       "      <td>StratifiedKFold</td>\n",
       "      <td>{'memory': None, 'steps': [['standard_scaler',...</td>\n",
       "      <td>0520099d-17f9-4315-9226-e13fcd4f0777</td>\n",
       "      <td>None</td>\n",
       "    </tr>\n",
       "    <tr>\n",
       "      <th>8</th>\n",
       "      <td>standard_scaler--gbt</td>\n",
       "      <td>4</td>\n",
       "      <td>test</td>\n",
       "      <td>accuracy</td>\n",
       "      <td>0.966667</td>\n",
       "      <td>StratifiedKFold</td>\n",
       "      <td>{'memory': None, 'steps': [['standard_scaler',...</td>\n",
       "      <td>0520099d-17f9-4315-9226-e13fcd4f0777</td>\n",
       "      <td>None</td>\n",
       "    </tr>\n",
       "    <tr>\n",
       "      <th>9</th>\n",
       "      <td>standard_scaler--gbt</td>\n",
       "      <td>4</td>\n",
       "      <td>train</td>\n",
       "      <td>accuracy</td>\n",
       "      <td>1.000000</td>\n",
       "      <td>StratifiedKFold</td>\n",
       "      <td>{'memory': None, 'steps': [['standard_scaler',...</td>\n",
       "      <td>0520099d-17f9-4315-9226-e13fcd4f0777</td>\n",
       "      <td>None</td>\n",
       "    </tr>\n",
       "    <tr>\n",
       "      <th>10</th>\n",
       "      <td>gbt</td>\n",
       "      <td>0</td>\n",
       "      <td>test</td>\n",
       "      <td>accuracy</td>\n",
       "      <td>0.966667</td>\n",
       "      <td>StratifiedKFold</td>\n",
       "      <td>{'memory': None, 'steps': [['gbt', SKModelWrap...</td>\n",
       "      <td>3bf551dc-dce6-4d06-a865-20be94283c38</td>\n",
       "      <td>None</td>\n",
       "    </tr>\n",
       "    <tr>\n",
       "      <th>11</th>\n",
       "      <td>gbt</td>\n",
       "      <td>0</td>\n",
       "      <td>train</td>\n",
       "      <td>accuracy</td>\n",
       "      <td>1.000000</td>\n",
       "      <td>StratifiedKFold</td>\n",
       "      <td>{'memory': None, 'steps': [['gbt', SKModelWrap...</td>\n",
       "      <td>3bf551dc-dce6-4d06-a865-20be94283c38</td>\n",
       "      <td>None</td>\n",
       "    </tr>\n",
       "    <tr>\n",
       "      <th>12</th>\n",
       "      <td>gbt</td>\n",
       "      <td>1</td>\n",
       "      <td>test</td>\n",
       "      <td>accuracy</td>\n",
       "      <td>0.933333</td>\n",
       "      <td>StratifiedKFold</td>\n",
       "      <td>{'memory': None, 'steps': [['gbt', SKModelWrap...</td>\n",
       "      <td>3bf551dc-dce6-4d06-a865-20be94283c38</td>\n",
       "      <td>None</td>\n",
       "    </tr>\n",
       "    <tr>\n",
       "      <th>13</th>\n",
       "      <td>gbt</td>\n",
       "      <td>1</td>\n",
       "      <td>train</td>\n",
       "      <td>accuracy</td>\n",
       "      <td>1.000000</td>\n",
       "      <td>StratifiedKFold</td>\n",
       "      <td>{'memory': None, 'steps': [['gbt', SKModelWrap...</td>\n",
       "      <td>3bf551dc-dce6-4d06-a865-20be94283c38</td>\n",
       "      <td>None</td>\n",
       "    </tr>\n",
       "    <tr>\n",
       "      <th>14</th>\n",
       "      <td>gbt</td>\n",
       "      <td>2</td>\n",
       "      <td>test</td>\n",
       "      <td>accuracy</td>\n",
       "      <td>0.922222</td>\n",
       "      <td>StratifiedKFold</td>\n",
       "      <td>{'memory': None, 'steps': [['gbt', SKModelWrap...</td>\n",
       "      <td>3bf551dc-dce6-4d06-a865-20be94283c38</td>\n",
       "      <td>None</td>\n",
       "    </tr>\n",
       "    <tr>\n",
       "      <th>15</th>\n",
       "      <td>gbt</td>\n",
       "      <td>2</td>\n",
       "      <td>train</td>\n",
       "      <td>accuracy</td>\n",
       "      <td>1.000000</td>\n",
       "      <td>StratifiedKFold</td>\n",
       "      <td>{'memory': None, 'steps': [['gbt', SKModelWrap...</td>\n",
       "      <td>3bf551dc-dce6-4d06-a865-20be94283c38</td>\n",
       "      <td>None</td>\n",
       "    </tr>\n",
       "    <tr>\n",
       "      <th>16</th>\n",
       "      <td>gbt</td>\n",
       "      <td>3</td>\n",
       "      <td>test</td>\n",
       "      <td>accuracy</td>\n",
       "      <td>0.933333</td>\n",
       "      <td>StratifiedKFold</td>\n",
       "      <td>{'memory': None, 'steps': [['gbt', SKModelWrap...</td>\n",
       "      <td>3bf551dc-dce6-4d06-a865-20be94283c38</td>\n",
       "      <td>None</td>\n",
       "    </tr>\n",
       "    <tr>\n",
       "      <th>17</th>\n",
       "      <td>gbt</td>\n",
       "      <td>3</td>\n",
       "      <td>train</td>\n",
       "      <td>accuracy</td>\n",
       "      <td>1.000000</td>\n",
       "      <td>StratifiedKFold</td>\n",
       "      <td>{'memory': None, 'steps': [['gbt', SKModelWrap...</td>\n",
       "      <td>3bf551dc-dce6-4d06-a865-20be94283c38</td>\n",
       "      <td>None</td>\n",
       "    </tr>\n",
       "    <tr>\n",
       "      <th>18</th>\n",
       "      <td>gbt</td>\n",
       "      <td>4</td>\n",
       "      <td>test</td>\n",
       "      <td>accuracy</td>\n",
       "      <td>0.955556</td>\n",
       "      <td>StratifiedKFold</td>\n",
       "      <td>{'memory': None, 'steps': [['gbt', SKModelWrap...</td>\n",
       "      <td>3bf551dc-dce6-4d06-a865-20be94283c38</td>\n",
       "      <td>None</td>\n",
       "    </tr>\n",
       "    <tr>\n",
       "      <th>19</th>\n",
       "      <td>gbt</td>\n",
       "      <td>4</td>\n",
       "      <td>train</td>\n",
       "      <td>accuracy</td>\n",
       "      <td>1.000000</td>\n",
       "      <td>StratifiedKFold</td>\n",
       "      <td>{'memory': None, 'steps': [['gbt', SKModelWrap...</td>\n",
       "      <td>3bf551dc-dce6-4d06-a865-20be94283c38</td>\n",
       "      <td>None</td>\n",
       "    </tr>\n",
       "  </tbody>\n",
       "</table>\n",
       "</div>"
      ],
      "text/plain": [
       "                pipeline  split_number train_or_test    metric     value  \\\n",
       "0   standard_scaler--gbt             0          test  accuracy  0.933333   \n",
       "1   standard_scaler--gbt             0         train  accuracy  1.000000   \n",
       "2   standard_scaler--gbt             1          test  accuracy  0.900000   \n",
       "3   standard_scaler--gbt             1         train  accuracy  1.000000   \n",
       "4   standard_scaler--gbt             2          test  accuracy  0.977778   \n",
       "5   standard_scaler--gbt             2         train  accuracy  1.000000   \n",
       "6   standard_scaler--gbt             3          test  accuracy  0.922222   \n",
       "7   standard_scaler--gbt             3         train  accuracy  1.000000   \n",
       "8   standard_scaler--gbt             4          test  accuracy  0.966667   \n",
       "9   standard_scaler--gbt             4         train  accuracy  1.000000   \n",
       "10                   gbt             0          test  accuracy  0.966667   \n",
       "11                   gbt             0         train  accuracy  1.000000   \n",
       "12                   gbt             1          test  accuracy  0.933333   \n",
       "13                   gbt             1         train  accuracy  1.000000   \n",
       "14                   gbt             2          test  accuracy  0.922222   \n",
       "15                   gbt             2         train  accuracy  1.000000   \n",
       "16                   gbt             3          test  accuracy  0.933333   \n",
       "17                   gbt             3         train  accuracy  1.000000   \n",
       "18                   gbt             4          test  accuracy  0.955556   \n",
       "19                   gbt             4         train  accuracy  1.000000   \n",
       "\n",
       "           splitter                                             params  \\\n",
       "0   StratifiedKFold  {'memory': None, 'steps': [['standard_scaler',...   \n",
       "1   StratifiedKFold  {'memory': None, 'steps': [['standard_scaler',...   \n",
       "2   StratifiedKFold  {'memory': None, 'steps': [['standard_scaler',...   \n",
       "3   StratifiedKFold  {'memory': None, 'steps': [['standard_scaler',...   \n",
       "4   StratifiedKFold  {'memory': None, 'steps': [['standard_scaler',...   \n",
       "5   StratifiedKFold  {'memory': None, 'steps': [['standard_scaler',...   \n",
       "6   StratifiedKFold  {'memory': None, 'steps': [['standard_scaler',...   \n",
       "7   StratifiedKFold  {'memory': None, 'steps': [['standard_scaler',...   \n",
       "8   StratifiedKFold  {'memory': None, 'steps': [['standard_scaler',...   \n",
       "9   StratifiedKFold  {'memory': None, 'steps': [['standard_scaler',...   \n",
       "10  StratifiedKFold  {'memory': None, 'steps': [['gbt', SKModelWrap...   \n",
       "11  StratifiedKFold  {'memory': None, 'steps': [['gbt', SKModelWrap...   \n",
       "12  StratifiedKFold  {'memory': None, 'steps': [['gbt', SKModelWrap...   \n",
       "13  StratifiedKFold  {'memory': None, 'steps': [['gbt', SKModelWrap...   \n",
       "14  StratifiedKFold  {'memory': None, 'steps': [['gbt', SKModelWrap...   \n",
       "15  StratifiedKFold  {'memory': None, 'steps': [['gbt', SKModelWrap...   \n",
       "16  StratifiedKFold  {'memory': None, 'steps': [['gbt', SKModelWrap...   \n",
       "17  StratifiedKFold  {'memory': None, 'steps': [['gbt', SKModelWrap...   \n",
       "18  StratifiedKFold  {'memory': None, 'steps': [['gbt', SKModelWrap...   \n",
       "19  StratifiedKFold  {'memory': None, 'steps': [['gbt', SKModelWrap...   \n",
       "\n",
       "                                train_id param_updates  \n",
       "0   0520099d-17f9-4315-9226-e13fcd4f0777          None  \n",
       "1   0520099d-17f9-4315-9226-e13fcd4f0777          None  \n",
       "2   0520099d-17f9-4315-9226-e13fcd4f0777          None  \n",
       "3   0520099d-17f9-4315-9226-e13fcd4f0777          None  \n",
       "4   0520099d-17f9-4315-9226-e13fcd4f0777          None  \n",
       "5   0520099d-17f9-4315-9226-e13fcd4f0777          None  \n",
       "6   0520099d-17f9-4315-9226-e13fcd4f0777          None  \n",
       "7   0520099d-17f9-4315-9226-e13fcd4f0777          None  \n",
       "8   0520099d-17f9-4315-9226-e13fcd4f0777          None  \n",
       "9   0520099d-17f9-4315-9226-e13fcd4f0777          None  \n",
       "10  3bf551dc-dce6-4d06-a865-20be94283c38          None  \n",
       "11  3bf551dc-dce6-4d06-a865-20be94283c38          None  \n",
       "12  3bf551dc-dce6-4d06-a865-20be94283c38          None  \n",
       "13  3bf551dc-dce6-4d06-a865-20be94283c38          None  \n",
       "14  3bf551dc-dce6-4d06-a865-20be94283c38          None  \n",
       "15  3bf551dc-dce6-4d06-a865-20be94283c38          None  \n",
       "16  3bf551dc-dce6-4d06-a865-20be94283c38          None  \n",
       "17  3bf551dc-dce6-4d06-a865-20be94283c38          None  \n",
       "18  3bf551dc-dce6-4d06-a865-20be94283c38          None  \n",
       "19  3bf551dc-dce6-4d06-a865-20be94283c38          None  "
      ]
     },
     "execution_count": 18,
     "metadata": {},
     "output_type": "execute_result"
    }
   ],
   "source": [
    "results"
   ]
  }
 ],
 "metadata": {
  "interpreter": {
   "hash": "6a2a4d21f5e783b82054ad45ecb7131839891456bc86a6e4166aaa2eb3ee21f8"
  },
  "kernelspec": {
   "display_name": "Python 3.9.12 ('dcarte')",
   "language": "python",
   "name": "python3"
  },
  "language_info": {
   "codemirror_mode": {
    "name": "ipython",
    "version": 3
   },
   "file_extension": ".py",
   "mimetype": "text/x-python",
   "name": "python",
   "nbconvert_exporter": "python",
   "pygments_lexer": "ipython3",
   "version": "3.9.12"
  },
  "orig_nbformat": 4
 },
 "nbformat": 4,
 "nbformat_minor": 2
}
