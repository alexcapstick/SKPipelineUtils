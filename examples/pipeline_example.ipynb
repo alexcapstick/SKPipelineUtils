{
 "cells": [
  {
   "cell_type": "markdown",
   "metadata": {},
   "source": [
    "# An Example of the Pipeline Functionality:"
   ]
  },
  {
   "cell_type": "markdown",
   "metadata": {},
   "source": [
    "Within this package, we build on the sklearn pipelines to improve their flexibility and use-cases. The main contribution is the modification of sklearn pipelines to fit, transform and predict on data dictionaries."
   ]
  },
  {
   "cell_type": "code",
   "execution_count": 1,
   "metadata": {},
   "outputs": [],
   "source": [
    "import sku\n",
    "\n",
    "import numpy as np\n",
    "from sklearn.datasets import load_digits\n",
    "from sklearn.preprocessing import StandardScaler\n",
    "from sklearn.ensemble import HistGradientBoostingClassifier\n",
    "from sklearn.model_selection import StratifiedKFold\n",
    "from sklearn.metrics import accuracy_score\n",
    "from sklearn import set_config\n",
    "set_config(display=\"diagram\")"
   ]
  },
  {
   "cell_type": "markdown",
   "metadata": {},
   "source": [
    "We will download and use a toy-data set available in sklearn:"
   ]
  },
  {
   "cell_type": "code",
   "execution_count": 2,
   "metadata": {},
   "outputs": [],
   "source": [
    "data = load_digits()\n",
    "\n",
    "X = data['data']\n",
    "y = data['target']"
   ]
  },
  {
   "cell_type": "markdown",
   "metadata": {},
   "source": [
    "Let's make 75% of the data unlabelled, to emphasise the flexibility of this new pipeline. Here, we will class an unlabelled point as having a y value of $-1$."
   ]
  },
  {
   "cell_type": "code",
   "execution_count": 3,
   "metadata": {},
   "outputs": [],
   "source": [
    "idx_unlabelled = np.random.choice(y.shape[0], size=int(y.shape[0]*0.75), replace=False)\n",
    "\n",
    "y[idx_unlabelled] = -1"
   ]
  },
  {
   "cell_type": "code",
   "execution_count": 4,
   "metadata": {},
   "outputs": [
    {
     "name": "stdout",
     "output_type": "stream",
     "text": [
      "There are 450 labelled points and 1347 unlabelled points.\n"
     ]
    }
   ],
   "source": [
    "print(f'There are {y[y!=-1].shape[0]} labelled points '\\\n",
    "        f'and {y[y==-1].shape[0]} unlabelled points.')"
   ]
  },
  {
   "cell_type": "markdown",
   "metadata": {},
   "source": [
    "We now make a dictionary containing the data:"
   ]
  },
  {
   "cell_type": "code",
   "execution_count": 5,
   "metadata": {},
   "outputs": [],
   "source": [
    "train_data = {'X':X[y!=-1], 'y': y[y!=-1], 'X_unlabelled': X[y==-1]}"
   ]
  },
  {
   "cell_type": "code",
   "execution_count": 6,
   "metadata": {},
   "outputs": [
    {
     "data": {
      "text/plain": [
       "{'X': array([[ 0.,  0.,  0., ..., 10.,  0.,  0.],\n",
       "        [ 0.,  0.,  0., ..., 16.,  1.,  0.],\n",
       "        [ 0.,  0.,  5., ..., 13., 12.,  4.],\n",
       "        ...,\n",
       "        [ 0.,  0.,  4., ...,  9.,  0.,  0.],\n",
       "        [ 0.,  0.,  6., ...,  6.,  0.,  0.],\n",
       "        [ 0.,  0., 10., ..., 12.,  1.,  0.]]),\n",
       " 'y': array([1, 1, 2, 2, 7, 0, 5, 9, 5, 2, 7, 2, 2, 4, 9, 9, 5, 8, 0, 1, 2, 3,\n",
       "        7, 2, 7, 9, 8, 8, 8, 3, 4, 5, 6, 8, 0, 7, 9, 1, 8, 5, 9, 1, 1, 6,\n",
       "        4, 1, 2, 0, 1, 3, 7, 1, 9, 7, 0, 3, 7, 5, 8, 8, 3, 9, 4, 7, 9, 1,\n",
       "        3, 5, 7, 9, 0, 9, 3, 5, 3, 6, 6, 1, 9, 8, 2, 6, 4, 1, 7, 3, 0, 1,\n",
       "        4, 7, 2, 2, 7, 0, 3, 2, 4, 6, 8, 1, 6, 5, 6, 9, 4, 7, 3, 1, 0, 7,\n",
       "        3, 6, 9, 0, 5, 8, 2, 0, 3, 3, 3, 9, 7, 1, 6, 9, 1, 7, 5, 2, 2, 8,\n",
       "        9, 8, 8, 2, 3, 5, 0, 4, 5, 6, 7, 8, 0, 5, 5, 4, 7, 7, 0, 2, 7, 6,\n",
       "        3, 7, 3, 6, 6, 6, 2, 0, 7, 2, 1, 6, 8, 6, 7, 5, 4, 7, 7, 4, 4, 9,\n",
       "        0, 2, 5, 3, 8, 0, 2, 3, 8, 0, 9, 5, 6, 8, 5, 0, 7, 8, 2, 3, 3, 6,\n",
       "        4, 2, 7, 2, 1, 6, 1, 3, 6, 3, 1, 0, 5, 3, 6, 9, 4, 8, 2, 8, 6, 7,\n",
       "        6, 9, 8, 1, 3, 1, 0, 2, 0, 1, 3, 3, 4, 6, 4, 1, 3, 2, 1, 3, 4, 7,\n",
       "        8, 7, 8, 8, 1, 4, 9, 3, 5, 8, 9, 1, 5, 8, 9, 7, 7, 2, 0, 2, 3, 6,\n",
       "        9, 9, 8, 2, 3, 3, 7, 8, 4, 0, 6, 2, 5, 6, 7, 0, 4, 9, 6, 9, 8, 4,\n",
       "        1, 7, 8, 2, 3, 7, 0, 0, 1, 7, 9, 1, 6, 4, 4, 7, 3, 6, 7, 8, 9, 2,\n",
       "        0, 5, 5, 8, 7, 3, 2, 7, 0, 2, 6, 3, 4, 4, 8, 0, 6, 4, 1, 8, 1, 2,\n",
       "        9, 3, 7, 1, 1, 4, 7, 8, 9, 6, 8, 4, 7, 1, 2, 0, 7, 4, 6, 6, 4, 7,\n",
       "        3, 8, 4, 1, 7, 4, 8, 9, 5, 4, 9, 0, 9, 0, 9, 4, 5, 9, 9, 8, 7, 0,\n",
       "        0, 6, 6, 6, 4, 1, 0, 8, 2, 7, 6, 4, 3, 1, 1, 8, 0, 5, 8, 7, 5, 0,\n",
       "        5, 7, 5, 9, 3, 5, 6, 0, 8, 4, 1, 7, 0, 8, 5, 1, 6, 3, 3, 9, 3, 6,\n",
       "        6, 2, 4, 9, 0, 6, 7, 7, 3, 4, 5, 8, 9, 8, 7, 2, 0, 6, 3, 3, 3, 3,\n",
       "        4, 3, 3, 7, 2, 9, 5, 9, 0, 8]),\n",
       " 'X_unlabelled': array([[ 0.,  0.,  5., ...,  0.,  0.,  0.],\n",
       "        [ 0.,  0.,  0., ..., 16.,  9.,  0.],\n",
       "        [ 0.,  0.,  7., ...,  9.,  0.,  0.],\n",
       "        ...,\n",
       "        [ 0.,  0.,  0., ...,  4.,  0.,  0.],\n",
       "        [ 0.,  0.,  1., ...,  6.,  0.,  0.],\n",
       "        [ 0.,  0.,  2., ..., 12.,  0.,  0.]])}"
      ]
     },
     "execution_count": 6,
     "metadata": {},
     "output_type": "execute_result"
    }
   ],
   "source": [
    "train_data"
   ]
  },
  {
   "cell_type": "markdown",
   "metadata": {},
   "source": [
    "Pipeline time!"
   ]
  },
  {
   "cell_type": "markdown",
   "metadata": {},
   "source": [
    "We first define the possible transformers and predictors that we will be using, and wrap them using either the transformer or model wrapper."
   ]
  },
  {
   "cell_type": "code",
   "execution_count": 7,
   "metadata": {},
   "outputs": [],
   "source": [
    "pipeline_objects = {\n",
    "\n",
    "    # fitting the standard scaler on the unlabelled data\n",
    "    # and transforming the labelled and unlabelled data\n",
    "    'standard_scaler': sku.SKTransformerWrapperDD(\n",
    "                            StandardScaler,\n",
    "                            fit_on=['X_unlabelled'],\n",
    "                            transform_on=[['X'], ['X_unlabelled']],\n",
    "                            # any keyword arguments passed here\n",
    "                            # will be given to the StandardScaler object\n",
    "                            ),\n",
    "\n",
    "    # fitting the gbt on the labelled data only\n",
    "    'gbt': sku.SKModelWrapperDD(\n",
    "                            HistGradientBoostingClassifier,\n",
    "                            fit_on=['X', 'y'],\n",
    "                            predict_on=['X'],\n",
    "                            # any keyword arguments passed here\n",
    "                            # will be given to the \n",
    "                            # HistGradientBoostingClassifier object\n",
    "                            )\n",
    "\n",
    "    }"
   ]
  },
  {
   "cell_type": "markdown",
   "metadata": {},
   "source": [
    "The wrappers above allow you to wrap any sklearn transformer or model in a way that allows it to accept a data dictionary in its `.fit()` method."
   ]
  },
  {
   "cell_type": "markdown",
   "metadata": {},
   "source": [
    "Now we can define a pipeline:"
   ]
  },
  {
   "cell_type": "code",
   "execution_count": 8,
   "metadata": {},
   "outputs": [],
   "source": [
    "pipeline_name = 'standard_scaler--gbt'"
   ]
  },
  {
   "cell_type": "markdown",
   "metadata": {},
   "source": [
    "And use the `pipeline_constructor` to build our pipeline:"
   ]
  },
  {
   "cell_type": "code",
   "execution_count": 9,
   "metadata": {},
   "outputs": [],
   "source": [
    "pipeline = sku.pipeline_constructor(pipeline_name, pipeline_objects)"
   ]
  },
  {
   "cell_type": "markdown",
   "metadata": {},
   "source": [
    "This looks like:"
   ]
  },
  {
   "cell_type": "code",
   "execution_count": 10,
   "metadata": {},
   "outputs": [
    {
     "data": {
      "text/html": [
       "<style>#sk-25fafd9d-da42-4978-b007-b140bd773acf {color: black;background-color: white;}#sk-25fafd9d-da42-4978-b007-b140bd773acf pre{padding: 0;}#sk-25fafd9d-da42-4978-b007-b140bd773acf div.sk-toggleable {background-color: white;}#sk-25fafd9d-da42-4978-b007-b140bd773acf label.sk-toggleable__label {cursor: pointer;display: block;width: 100%;margin-bottom: 0;padding: 0.3em;box-sizing: border-box;text-align: center;}#sk-25fafd9d-da42-4978-b007-b140bd773acf label.sk-toggleable__label-arrow:before {content: \"▸\";float: left;margin-right: 0.25em;color: #696969;}#sk-25fafd9d-da42-4978-b007-b140bd773acf label.sk-toggleable__label-arrow:hover:before {color: black;}#sk-25fafd9d-da42-4978-b007-b140bd773acf div.sk-estimator:hover label.sk-toggleable__label-arrow:before {color: black;}#sk-25fafd9d-da42-4978-b007-b140bd773acf div.sk-toggleable__content {max-height: 0;max-width: 0;overflow: hidden;text-align: left;background-color: #f0f8ff;}#sk-25fafd9d-da42-4978-b007-b140bd773acf div.sk-toggleable__content pre {margin: 0.2em;color: black;border-radius: 0.25em;background-color: #f0f8ff;}#sk-25fafd9d-da42-4978-b007-b140bd773acf input.sk-toggleable__control:checked~div.sk-toggleable__content {max-height: 200px;max-width: 100%;overflow: auto;}#sk-25fafd9d-da42-4978-b007-b140bd773acf input.sk-toggleable__control:checked~label.sk-toggleable__label-arrow:before {content: \"▾\";}#sk-25fafd9d-da42-4978-b007-b140bd773acf div.sk-estimator input.sk-toggleable__control:checked~label.sk-toggleable__label {background-color: #d4ebff;}#sk-25fafd9d-da42-4978-b007-b140bd773acf div.sk-label input.sk-toggleable__control:checked~label.sk-toggleable__label {background-color: #d4ebff;}#sk-25fafd9d-da42-4978-b007-b140bd773acf input.sk-hidden--visually {border: 0;clip: rect(1px 1px 1px 1px);clip: rect(1px, 1px, 1px, 1px);height: 1px;margin: -1px;overflow: hidden;padding: 0;position: absolute;width: 1px;}#sk-25fafd9d-da42-4978-b007-b140bd773acf div.sk-estimator {font-family: monospace;background-color: #f0f8ff;border: 1px dotted black;border-radius: 0.25em;box-sizing: border-box;margin-bottom: 0.5em;}#sk-25fafd9d-da42-4978-b007-b140bd773acf div.sk-estimator:hover {background-color: #d4ebff;}#sk-25fafd9d-da42-4978-b007-b140bd773acf div.sk-parallel-item::after {content: \"\";width: 100%;border-bottom: 1px solid gray;flex-grow: 1;}#sk-25fafd9d-da42-4978-b007-b140bd773acf div.sk-label:hover label.sk-toggleable__label {background-color: #d4ebff;}#sk-25fafd9d-da42-4978-b007-b140bd773acf div.sk-serial::before {content: \"\";position: absolute;border-left: 1px solid gray;box-sizing: border-box;top: 2em;bottom: 0;left: 50%;}#sk-25fafd9d-da42-4978-b007-b140bd773acf div.sk-serial {display: flex;flex-direction: column;align-items: center;background-color: white;padding-right: 0.2em;padding-left: 0.2em;}#sk-25fafd9d-da42-4978-b007-b140bd773acf div.sk-item {z-index: 1;}#sk-25fafd9d-da42-4978-b007-b140bd773acf div.sk-parallel {display: flex;align-items: stretch;justify-content: center;background-color: white;}#sk-25fafd9d-da42-4978-b007-b140bd773acf div.sk-parallel::before {content: \"\";position: absolute;border-left: 1px solid gray;box-sizing: border-box;top: 2em;bottom: 0;left: 50%;}#sk-25fafd9d-da42-4978-b007-b140bd773acf div.sk-parallel-item {display: flex;flex-direction: column;position: relative;background-color: white;}#sk-25fafd9d-da42-4978-b007-b140bd773acf div.sk-parallel-item:first-child::after {align-self: flex-end;width: 50%;}#sk-25fafd9d-da42-4978-b007-b140bd773acf div.sk-parallel-item:last-child::after {align-self: flex-start;width: 50%;}#sk-25fafd9d-da42-4978-b007-b140bd773acf div.sk-parallel-item:only-child::after {width: 0;}#sk-25fafd9d-da42-4978-b007-b140bd773acf div.sk-dashed-wrapped {border: 1px dashed gray;margin: 0 0.4em 0.5em 0.4em;box-sizing: border-box;padding-bottom: 0.4em;background-color: white;position: relative;}#sk-25fafd9d-da42-4978-b007-b140bd773acf div.sk-label label {font-family: monospace;font-weight: bold;background-color: white;display: inline-block;line-height: 1.2em;}#sk-25fafd9d-da42-4978-b007-b140bd773acf div.sk-label-container {position: relative;z-index: 2;text-align: center;}#sk-25fafd9d-da42-4978-b007-b140bd773acf div.sk-container {/* jupyter's `normalize.less` sets `[hidden] { display: none; }` but bootstrap.min.css set `[hidden] { display: none !important; }` so we also need the `!important` here to be able to override the default hidden behavior on the sphinx rendered scikit-learn.org. See: https://github.com/scikit-learn/scikit-learn/issues/21755 */display: inline-block !important;position: relative;}#sk-25fafd9d-da42-4978-b007-b140bd773acf div.sk-text-repr-fallback {display: none;}</style><div id=\"sk-25fafd9d-da42-4978-b007-b140bd773acf\" class=\"sk-top-container\"><div class=\"sk-text-repr-fallback\"><pre>PipelineDD(steps=[[&#x27;standard_scaler&#x27;,\n",
       "                   SKTransformerWrapperDD(copy=True, fit_on=[&#x27;X_unlabelled&#x27;],\n",
       "                                          transform_on=[[&#x27;X&#x27;],\n",
       "                                                        [&#x27;X_unlabelled&#x27;]],\n",
       "                                          transformer=StandardScaler(),\n",
       "                                          with_mean=True, with_std=True)],\n",
       "                  [&#x27;gbt&#x27;,\n",
       "                   SKModelWrapperDD(categorical_features=None,\n",
       "                                    early_stopping=&#x27;auto&#x27;, fit_on=[&#x27;X&#x27;, &#x27;y&#x27;],\n",
       "                                    l2_regularization=0.0, learning_rate=0.1,\n",
       "                                    loss=&#x27;auto&#x27;, max_bins=255, max_depth=None,\n",
       "                                    max_iter=100, max_leaf_nodes=31,\n",
       "                                    min_samples_leaf=20,\n",
       "                                    model=HistGradientBoostingClassifier(),\n",
       "                                    monotonic_cst=None, n_iter_no_change=10,\n",
       "                                    predict_on=[&#x27;X&#x27;], random_state=None,\n",
       "                                    scoring=&#x27;loss&#x27;, tol=1e-07,\n",
       "                                    validation_fraction=0.1, verbose=0,\n",
       "                                    warm_start=False)]])</pre><b>Please rerun this cell to show the HTML repr or trust the notebook.</b></div><div class=\"sk-container\" hidden><div class=\"sk-item sk-dashed-wrapped\"><div class=\"sk-label-container\"><div class=\"sk-label sk-toggleable\"><input class=\"sk-toggleable__control sk-hidden--visually\" id=\"ff5d522f-3a74-48f8-aaaa-e65ed15f6141\" type=\"checkbox\" ><label for=\"ff5d522f-3a74-48f8-aaaa-e65ed15f6141\" class=\"sk-toggleable__label sk-toggleable__label-arrow\">PipelineDD</label><div class=\"sk-toggleable__content\"><pre>PipelineDD(steps=[[&#x27;standard_scaler&#x27;,\n",
       "                   SKTransformerWrapperDD(copy=True, fit_on=[&#x27;X_unlabelled&#x27;],\n",
       "                                          transform_on=[[&#x27;X&#x27;],\n",
       "                                                        [&#x27;X_unlabelled&#x27;]],\n",
       "                                          transformer=StandardScaler(),\n",
       "                                          with_mean=True, with_std=True)],\n",
       "                  [&#x27;gbt&#x27;,\n",
       "                   SKModelWrapperDD(categorical_features=None,\n",
       "                                    early_stopping=&#x27;auto&#x27;, fit_on=[&#x27;X&#x27;, &#x27;y&#x27;],\n",
       "                                    l2_regularization=0.0, learning_rate=0.1,\n",
       "                                    loss=&#x27;auto&#x27;, max_bins=255, max_depth=None,\n",
       "                                    max_iter=100, max_leaf_nodes=31,\n",
       "                                    min_samples_leaf=20,\n",
       "                                    model=HistGradientBoostingClassifier(),\n",
       "                                    monotonic_cst=None, n_iter_no_change=10,\n",
       "                                    predict_on=[&#x27;X&#x27;], random_state=None,\n",
       "                                    scoring=&#x27;loss&#x27;, tol=1e-07,\n",
       "                                    validation_fraction=0.1, verbose=0,\n",
       "                                    warm_start=False)]])</pre></div></div></div><div class=\"sk-serial\"><div class=\"sk-item sk-dashed-wrapped\"><div class=\"sk-label-container\"><div class=\"sk-label sk-toggleable\"><input class=\"sk-toggleable__control sk-hidden--visually\" id=\"33f521b5-5628-43ee-921d-beca61388395\" type=\"checkbox\" ><label for=\"33f521b5-5628-43ee-921d-beca61388395\" class=\"sk-toggleable__label sk-toggleable__label-arrow\">standard_scaler: SKTransformerWrapperDD</label><div class=\"sk-toggleable__content\"><pre>SKTransformerWrapperDD(copy=True, fit_on=[&#x27;X_unlabelled&#x27;],\n",
       "                       transform_on=[[&#x27;X&#x27;], [&#x27;X_unlabelled&#x27;]],\n",
       "                       transformer=StandardScaler(), with_mean=True,\n",
       "                       with_std=True)</pre></div></div></div><div class=\"sk-parallel\"><div class=\"sk-parallel-item\"><div class=\"sk-item\"><div class=\"sk-serial\"><div class=\"sk-item\"><div class=\"sk-estimator sk-toggleable\"><input class=\"sk-toggleable__control sk-hidden--visually\" id=\"83768ca4-0e95-4e0f-8fdb-683773e4d700\" type=\"checkbox\" ><label for=\"83768ca4-0e95-4e0f-8fdb-683773e4d700\" class=\"sk-toggleable__label sk-toggleable__label-arrow\">StandardScaler</label><div class=\"sk-toggleable__content\"><pre>StandardScaler()</pre></div></div></div></div></div></div></div></div><div class=\"sk-item sk-dashed-wrapped\"><div class=\"sk-label-container\"><div class=\"sk-label sk-toggleable\"><input class=\"sk-toggleable__control sk-hidden--visually\" id=\"873682a9-c678-4b17-ab96-ee66f19539e2\" type=\"checkbox\" ><label for=\"873682a9-c678-4b17-ab96-ee66f19539e2\" class=\"sk-toggleable__label sk-toggleable__label-arrow\">gbt: SKModelWrapperDD</label><div class=\"sk-toggleable__content\"><pre>SKModelWrapperDD(categorical_features=None, early_stopping=&#x27;auto&#x27;,\n",
       "                 fit_on=[&#x27;X&#x27;, &#x27;y&#x27;], l2_regularization=0.0, learning_rate=0.1,\n",
       "                 loss=&#x27;auto&#x27;, max_bins=255, max_depth=None, max_iter=100,\n",
       "                 max_leaf_nodes=31, min_samples_leaf=20,\n",
       "                 model=HistGradientBoostingClassifier(), monotonic_cst=None,\n",
       "                 n_iter_no_change=10, predict_on=[&#x27;X&#x27;], random_state=None,\n",
       "                 scoring=&#x27;loss&#x27;, tol=1e-07, validation_fraction=0.1, verbose=0,\n",
       "                 warm_start=False)</pre></div></div></div><div class=\"sk-parallel\"><div class=\"sk-parallel-item\"><div class=\"sk-item\"><div class=\"sk-serial\"><div class=\"sk-item\"><div class=\"sk-estimator sk-toggleable\"><input class=\"sk-toggleable__control sk-hidden--visually\" id=\"6471f232-2cfb-4bc9-8372-19e969ef0375\" type=\"checkbox\" ><label for=\"6471f232-2cfb-4bc9-8372-19e969ef0375\" class=\"sk-toggleable__label sk-toggleable__label-arrow\">HistGradientBoostingClassifier</label><div class=\"sk-toggleable__content\"><pre>HistGradientBoostingClassifier()</pre></div></div></div></div></div></div></div></div></div></div></div></div>"
      ],
      "text/plain": [
       "PipelineDD(steps=[['standard_scaler',\n",
       "                   SKTransformerWrapperDD(copy=True, fit_on=['X_unlabelled'],\n",
       "                                          transform_on=[['X'],\n",
       "                                                        ['X_unlabelled']],\n",
       "                                          transformer=StandardScaler(),\n",
       "                                          with_mean=True, with_std=True)],\n",
       "                  ['gbt',\n",
       "                   SKModelWrapperDD(categorical_features=None,\n",
       "                                    early_stopping='auto', fit_on=['X', 'y'],\n",
       "                                    l2_regularization=0.0, learning_rate=0.1,\n",
       "                                    loss='auto', max_bins=255, max_depth=None,\n",
       "                                    max_iter=100, max_leaf_nodes=31,\n",
       "                                    min_samples_leaf=20,\n",
       "                                    model=HistGradientBoostingClassifier(),\n",
       "                                    monotonic_cst=None, n_iter_no_change=10,\n",
       "                                    predict_on=['X'], random_state=None,\n",
       "                                    scoring='loss', tol=1e-07,\n",
       "                                    validation_fraction=0.1, verbose=0,\n",
       "                                    warm_start=False)]])"
      ]
     },
     "execution_count": 10,
     "metadata": {},
     "output_type": "execute_result"
    }
   ],
   "source": [
    "pipeline"
   ]
  },
  {
   "cell_type": "markdown",
   "metadata": {},
   "source": [
    "It is now as easy as sklearn to fit and predict using this pipeline:"
   ]
  },
  {
   "cell_type": "code",
   "execution_count": 11,
   "metadata": {},
   "outputs": [
    {
     "data": {
      "text/html": [
       "<style>#sk-23f9b99a-941f-4197-a1c1-3f27e958bbd1 {color: black;background-color: white;}#sk-23f9b99a-941f-4197-a1c1-3f27e958bbd1 pre{padding: 0;}#sk-23f9b99a-941f-4197-a1c1-3f27e958bbd1 div.sk-toggleable {background-color: white;}#sk-23f9b99a-941f-4197-a1c1-3f27e958bbd1 label.sk-toggleable__label {cursor: pointer;display: block;width: 100%;margin-bottom: 0;padding: 0.3em;box-sizing: border-box;text-align: center;}#sk-23f9b99a-941f-4197-a1c1-3f27e958bbd1 label.sk-toggleable__label-arrow:before {content: \"▸\";float: left;margin-right: 0.25em;color: #696969;}#sk-23f9b99a-941f-4197-a1c1-3f27e958bbd1 label.sk-toggleable__label-arrow:hover:before {color: black;}#sk-23f9b99a-941f-4197-a1c1-3f27e958bbd1 div.sk-estimator:hover label.sk-toggleable__label-arrow:before {color: black;}#sk-23f9b99a-941f-4197-a1c1-3f27e958bbd1 div.sk-toggleable__content {max-height: 0;max-width: 0;overflow: hidden;text-align: left;background-color: #f0f8ff;}#sk-23f9b99a-941f-4197-a1c1-3f27e958bbd1 div.sk-toggleable__content pre {margin: 0.2em;color: black;border-radius: 0.25em;background-color: #f0f8ff;}#sk-23f9b99a-941f-4197-a1c1-3f27e958bbd1 input.sk-toggleable__control:checked~div.sk-toggleable__content {max-height: 200px;max-width: 100%;overflow: auto;}#sk-23f9b99a-941f-4197-a1c1-3f27e958bbd1 input.sk-toggleable__control:checked~label.sk-toggleable__label-arrow:before {content: \"▾\";}#sk-23f9b99a-941f-4197-a1c1-3f27e958bbd1 div.sk-estimator input.sk-toggleable__control:checked~label.sk-toggleable__label {background-color: #d4ebff;}#sk-23f9b99a-941f-4197-a1c1-3f27e958bbd1 div.sk-label input.sk-toggleable__control:checked~label.sk-toggleable__label {background-color: #d4ebff;}#sk-23f9b99a-941f-4197-a1c1-3f27e958bbd1 input.sk-hidden--visually {border: 0;clip: rect(1px 1px 1px 1px);clip: rect(1px, 1px, 1px, 1px);height: 1px;margin: -1px;overflow: hidden;padding: 0;position: absolute;width: 1px;}#sk-23f9b99a-941f-4197-a1c1-3f27e958bbd1 div.sk-estimator {font-family: monospace;background-color: #f0f8ff;border: 1px dotted black;border-radius: 0.25em;box-sizing: border-box;margin-bottom: 0.5em;}#sk-23f9b99a-941f-4197-a1c1-3f27e958bbd1 div.sk-estimator:hover {background-color: #d4ebff;}#sk-23f9b99a-941f-4197-a1c1-3f27e958bbd1 div.sk-parallel-item::after {content: \"\";width: 100%;border-bottom: 1px solid gray;flex-grow: 1;}#sk-23f9b99a-941f-4197-a1c1-3f27e958bbd1 div.sk-label:hover label.sk-toggleable__label {background-color: #d4ebff;}#sk-23f9b99a-941f-4197-a1c1-3f27e958bbd1 div.sk-serial::before {content: \"\";position: absolute;border-left: 1px solid gray;box-sizing: border-box;top: 2em;bottom: 0;left: 50%;}#sk-23f9b99a-941f-4197-a1c1-3f27e958bbd1 div.sk-serial {display: flex;flex-direction: column;align-items: center;background-color: white;padding-right: 0.2em;padding-left: 0.2em;}#sk-23f9b99a-941f-4197-a1c1-3f27e958bbd1 div.sk-item {z-index: 1;}#sk-23f9b99a-941f-4197-a1c1-3f27e958bbd1 div.sk-parallel {display: flex;align-items: stretch;justify-content: center;background-color: white;}#sk-23f9b99a-941f-4197-a1c1-3f27e958bbd1 div.sk-parallel::before {content: \"\";position: absolute;border-left: 1px solid gray;box-sizing: border-box;top: 2em;bottom: 0;left: 50%;}#sk-23f9b99a-941f-4197-a1c1-3f27e958bbd1 div.sk-parallel-item {display: flex;flex-direction: column;position: relative;background-color: white;}#sk-23f9b99a-941f-4197-a1c1-3f27e958bbd1 div.sk-parallel-item:first-child::after {align-self: flex-end;width: 50%;}#sk-23f9b99a-941f-4197-a1c1-3f27e958bbd1 div.sk-parallel-item:last-child::after {align-self: flex-start;width: 50%;}#sk-23f9b99a-941f-4197-a1c1-3f27e958bbd1 div.sk-parallel-item:only-child::after {width: 0;}#sk-23f9b99a-941f-4197-a1c1-3f27e958bbd1 div.sk-dashed-wrapped {border: 1px dashed gray;margin: 0 0.4em 0.5em 0.4em;box-sizing: border-box;padding-bottom: 0.4em;background-color: white;position: relative;}#sk-23f9b99a-941f-4197-a1c1-3f27e958bbd1 div.sk-label label {font-family: monospace;font-weight: bold;background-color: white;display: inline-block;line-height: 1.2em;}#sk-23f9b99a-941f-4197-a1c1-3f27e958bbd1 div.sk-label-container {position: relative;z-index: 2;text-align: center;}#sk-23f9b99a-941f-4197-a1c1-3f27e958bbd1 div.sk-container {/* jupyter's `normalize.less` sets `[hidden] { display: none; }` but bootstrap.min.css set `[hidden] { display: none !important; }` so we also need the `!important` here to be able to override the default hidden behavior on the sphinx rendered scikit-learn.org. See: https://github.com/scikit-learn/scikit-learn/issues/21755 */display: inline-block !important;position: relative;}#sk-23f9b99a-941f-4197-a1c1-3f27e958bbd1 div.sk-text-repr-fallback {display: none;}</style><div id=\"sk-23f9b99a-941f-4197-a1c1-3f27e958bbd1\" class=\"sk-top-container\"><div class=\"sk-text-repr-fallback\"><pre>PipelineDD(steps=[(&#x27;standard_scaler&#x27;,\n",
       "                   SKTransformerWrapperDD(copy=True, fit_on=[&#x27;X_unlabelled&#x27;],\n",
       "                                          transform_on=[[&#x27;X&#x27;],\n",
       "                                                        [&#x27;X_unlabelled&#x27;]],\n",
       "                                          transformer=StandardScaler(),\n",
       "                                          with_mean=True, with_std=True)),\n",
       "                  [&#x27;gbt&#x27;,\n",
       "                   SKModelWrapperDD(categorical_features=None,\n",
       "                                    early_stopping=&#x27;auto&#x27;, fit_on=[&#x27;X&#x27;, &#x27;y&#x27;],\n",
       "                                    l2_regularization=0.0, learning_rate=0.1,\n",
       "                                    loss=&#x27;auto&#x27;, max_bins=255, max_depth=None,\n",
       "                                    max_iter=100, max_leaf_nodes=31,\n",
       "                                    min_samples_leaf=20,\n",
       "                                    model=HistGradientBoostingClassifier(),\n",
       "                                    monotonic_cst=None, n_iter_no_change=10,\n",
       "                                    predict_on=[&#x27;X&#x27;], random_state=None,\n",
       "                                    scoring=&#x27;loss&#x27;, tol=1e-07,\n",
       "                                    validation_fraction=0.1, verbose=0,\n",
       "                                    warm_start=False)]])</pre><b>Please rerun this cell to show the HTML repr or trust the notebook.</b></div><div class=\"sk-container\" hidden><div class=\"sk-item sk-dashed-wrapped\"><div class=\"sk-label-container\"><div class=\"sk-label sk-toggleable\"><input class=\"sk-toggleable__control sk-hidden--visually\" id=\"759b3a57-e904-45c3-bde5-a270c3666147\" type=\"checkbox\" ><label for=\"759b3a57-e904-45c3-bde5-a270c3666147\" class=\"sk-toggleable__label sk-toggleable__label-arrow\">PipelineDD</label><div class=\"sk-toggleable__content\"><pre>PipelineDD(steps=[(&#x27;standard_scaler&#x27;,\n",
       "                   SKTransformerWrapperDD(copy=True, fit_on=[&#x27;X_unlabelled&#x27;],\n",
       "                                          transform_on=[[&#x27;X&#x27;],\n",
       "                                                        [&#x27;X_unlabelled&#x27;]],\n",
       "                                          transformer=StandardScaler(),\n",
       "                                          with_mean=True, with_std=True)),\n",
       "                  [&#x27;gbt&#x27;,\n",
       "                   SKModelWrapperDD(categorical_features=None,\n",
       "                                    early_stopping=&#x27;auto&#x27;, fit_on=[&#x27;X&#x27;, &#x27;y&#x27;],\n",
       "                                    l2_regularization=0.0, learning_rate=0.1,\n",
       "                                    loss=&#x27;auto&#x27;, max_bins=255, max_depth=None,\n",
       "                                    max_iter=100, max_leaf_nodes=31,\n",
       "                                    min_samples_leaf=20,\n",
       "                                    model=HistGradientBoostingClassifier(),\n",
       "                                    monotonic_cst=None, n_iter_no_change=10,\n",
       "                                    predict_on=[&#x27;X&#x27;], random_state=None,\n",
       "                                    scoring=&#x27;loss&#x27;, tol=1e-07,\n",
       "                                    validation_fraction=0.1, verbose=0,\n",
       "                                    warm_start=False)]])</pre></div></div></div><div class=\"sk-serial\"><div class=\"sk-item sk-dashed-wrapped\"><div class=\"sk-label-container\"><div class=\"sk-label sk-toggleable\"><input class=\"sk-toggleable__control sk-hidden--visually\" id=\"255fee19-c58c-45c6-ab9b-d442140a807b\" type=\"checkbox\" ><label for=\"255fee19-c58c-45c6-ab9b-d442140a807b\" class=\"sk-toggleable__label sk-toggleable__label-arrow\">standard_scaler: SKTransformerWrapperDD</label><div class=\"sk-toggleable__content\"><pre>SKTransformerWrapperDD(copy=True, fit_on=[&#x27;X_unlabelled&#x27;],\n",
       "                       transform_on=[[&#x27;X&#x27;], [&#x27;X_unlabelled&#x27;]],\n",
       "                       transformer=StandardScaler(), with_mean=True,\n",
       "                       with_std=True)</pre></div></div></div><div class=\"sk-parallel\"><div class=\"sk-parallel-item\"><div class=\"sk-item\"><div class=\"sk-serial\"><div class=\"sk-item\"><div class=\"sk-estimator sk-toggleable\"><input class=\"sk-toggleable__control sk-hidden--visually\" id=\"0d1b6c26-4e39-48be-8c28-e72cfce5cccd\" type=\"checkbox\" ><label for=\"0d1b6c26-4e39-48be-8c28-e72cfce5cccd\" class=\"sk-toggleable__label sk-toggleable__label-arrow\">StandardScaler</label><div class=\"sk-toggleable__content\"><pre>StandardScaler()</pre></div></div></div></div></div></div></div></div><div class=\"sk-item sk-dashed-wrapped\"><div class=\"sk-label-container\"><div class=\"sk-label sk-toggleable\"><input class=\"sk-toggleable__control sk-hidden--visually\" id=\"d5d539ab-6112-479b-b4aa-db5bd27f5f47\" type=\"checkbox\" ><label for=\"d5d539ab-6112-479b-b4aa-db5bd27f5f47\" class=\"sk-toggleable__label sk-toggleable__label-arrow\">gbt: SKModelWrapperDD</label><div class=\"sk-toggleable__content\"><pre>SKModelWrapperDD(categorical_features=None, early_stopping=&#x27;auto&#x27;,\n",
       "                 fit_on=[&#x27;X&#x27;, &#x27;y&#x27;], l2_regularization=0.0, learning_rate=0.1,\n",
       "                 loss=&#x27;auto&#x27;, max_bins=255, max_depth=None, max_iter=100,\n",
       "                 max_leaf_nodes=31, min_samples_leaf=20,\n",
       "                 model=HistGradientBoostingClassifier(), monotonic_cst=None,\n",
       "                 n_iter_no_change=10, predict_on=[&#x27;X&#x27;], random_state=None,\n",
       "                 scoring=&#x27;loss&#x27;, tol=1e-07, validation_fraction=0.1, verbose=0,\n",
       "                 warm_start=False)</pre></div></div></div><div class=\"sk-parallel\"><div class=\"sk-parallel-item\"><div class=\"sk-item\"><div class=\"sk-serial\"><div class=\"sk-item\"><div class=\"sk-estimator sk-toggleable\"><input class=\"sk-toggleable__control sk-hidden--visually\" id=\"8c0fd570-d0b4-4242-8a52-87cac70565ae\" type=\"checkbox\" ><label for=\"8c0fd570-d0b4-4242-8a52-87cac70565ae\" class=\"sk-toggleable__label sk-toggleable__label-arrow\">HistGradientBoostingClassifier</label><div class=\"sk-toggleable__content\"><pre>HistGradientBoostingClassifier()</pre></div></div></div></div></div></div></div></div></div></div></div></div>"
      ],
      "text/plain": [
       "PipelineDD(steps=[('standard_scaler',\n",
       "                   SKTransformerWrapperDD(copy=True, fit_on=['X_unlabelled'],\n",
       "                                          transform_on=[['X'],\n",
       "                                                        ['X_unlabelled']],\n",
       "                                          transformer=StandardScaler(),\n",
       "                                          with_mean=True, with_std=True)),\n",
       "                  ['gbt',\n",
       "                   SKModelWrapperDD(categorical_features=None,\n",
       "                                    early_stopping='auto', fit_on=['X', 'y'],\n",
       "                                    l2_regularization=0.0, learning_rate=0.1,\n",
       "                                    loss='auto', max_bins=255, max_depth=None,\n",
       "                                    max_iter=100, max_leaf_nodes=31,\n",
       "                                    min_samples_leaf=20,\n",
       "                                    model=HistGradientBoostingClassifier(),\n",
       "                                    monotonic_cst=None, n_iter_no_change=10,\n",
       "                                    predict_on=['X'], random_state=None,\n",
       "                                    scoring='loss', tol=1e-07,\n",
       "                                    validation_fraction=0.1, verbose=0,\n",
       "                                    warm_start=False)]])"
      ]
     },
     "execution_count": 11,
     "metadata": {},
     "output_type": "execute_result"
    }
   ],
   "source": [
    "pipeline.fit(X = train_data)"
   ]
  },
  {
   "cell_type": "code",
   "execution_count": 12,
   "metadata": {},
   "outputs": [
    {
     "data": {
      "text/plain": [
       "array([1, 1, 2, 2, 7, 0, 5, 9, 5, 2, 7, 2, 2, 4, 9, 9, 5, 8, 0, 1, 2, 3,\n",
       "       7, 2, 7, 9, 8, 8, 8, 3, 4, 5, 6, 8, 0, 7, 9, 1, 8, 5, 9, 1, 1, 6,\n",
       "       4, 1, 2, 0, 1, 3, 7, 1, 9, 7, 0, 3, 7, 5, 8, 8, 3, 9, 4, 7, 9, 1,\n",
       "       3, 5, 7, 9, 0, 9, 3, 5, 3, 6, 6, 1, 9, 8, 2, 6, 4, 1, 7, 3, 0, 1,\n",
       "       4, 7, 2, 2, 7, 0, 3, 2, 4, 6, 8, 1, 6, 5, 6, 9, 4, 7, 3, 1, 0, 7,\n",
       "       3, 6, 9, 0, 5, 8, 2, 0, 3, 3, 3, 9, 7, 1, 6, 9, 1, 7, 5, 2, 2, 8,\n",
       "       9, 8, 8, 2, 3, 5, 0, 4, 5, 6, 7, 8, 0, 5, 5, 4, 7, 7, 0, 2, 7, 6,\n",
       "       3, 7, 3, 6, 6, 6, 2, 0, 7, 2, 1, 6, 8, 6, 7, 5, 4, 7, 7, 4, 4, 9,\n",
       "       0, 2, 5, 3, 8, 0, 2, 3, 8, 0, 9, 5, 6, 8, 5, 0, 7, 8, 2, 3, 3, 6,\n",
       "       4, 2, 7, 2, 1, 6, 1, 3, 6, 3, 1, 0, 5, 3, 6, 9, 4, 8, 2, 8, 6, 7,\n",
       "       6, 9, 8, 1, 3, 1, 0, 2, 0, 1, 3, 3, 4, 6, 4, 1, 3, 2, 1, 3, 4, 7,\n",
       "       8, 7, 8, 8, 1, 4, 9, 3, 5, 8, 9, 1, 5, 8, 9, 7, 7, 2, 0, 2, 3, 6,\n",
       "       9, 9, 8, 2, 3, 3, 7, 8, 4, 0, 6, 2, 5, 6, 7, 0, 4, 9, 6, 9, 8, 4,\n",
       "       1, 7, 8, 2, 3, 7, 0, 0, 1, 7, 9, 1, 6, 4, 4, 7, 3, 6, 7, 8, 9, 2,\n",
       "       0, 5, 5, 8, 7, 3, 2, 7, 0, 2, 6, 3, 4, 4, 8, 0, 6, 4, 1, 8, 1, 2,\n",
       "       9, 3, 7, 1, 1, 4, 7, 8, 9, 6, 8, 4, 7, 1, 2, 0, 7, 4, 6, 6, 4, 7,\n",
       "       3, 8, 4, 1, 7, 4, 8, 9, 5, 4, 9, 0, 9, 0, 9, 4, 5, 9, 9, 8, 7, 0,\n",
       "       0, 6, 6, 6, 4, 1, 0, 8, 2, 7, 6, 4, 3, 1, 1, 8, 0, 5, 8, 7, 5, 0,\n",
       "       5, 7, 5, 9, 3, 5, 6, 0, 8, 4, 1, 7, 0, 8, 5, 1, 6, 3, 3, 9, 3, 6,\n",
       "       6, 2, 4, 9, 0, 6, 7, 7, 3, 4, 5, 8, 9, 8, 7, 2, 0, 6, 3, 3, 3, 3,\n",
       "       4, 3, 3, 7, 2, 9, 5, 9, 0, 8])"
      ]
     },
     "execution_count": 12,
     "metadata": {},
     "output_type": "execute_result"
    }
   ],
   "source": [
    "pipeline.predict(X = train_data)"
   ]
  },
  {
   "cell_type": "markdown",
   "metadata": {},
   "source": [
    "And you can even score, by passing the key for the targets:"
   ]
  },
  {
   "cell_type": "code",
   "execution_count": 13,
   "metadata": {},
   "outputs": [
    {
     "name": "stdout",
     "output_type": "stream",
     "text": [
      "The accuracy on the training data was: 100.0%\n"
     ]
    }
   ],
   "source": [
    "print(f\"The accuracy on the training data was: {pipeline.score(train_data, 'y')*100}%\")"
   ]
  },
  {
   "cell_type": "markdown",
   "metadata": {},
   "source": [
    "But what about trying multiple pipelines?"
   ]
  },
  {
   "cell_type": "code",
   "execution_count": 14,
   "metadata": {},
   "outputs": [],
   "source": [
    "# set the pipeline names to test\n",
    "pipeline_names = [\n",
    "                    'standard_scaler--gbt',\n",
    "                    'gbt',\n",
    "                    ]"
   ]
  },
  {
   "cell_type": "markdown",
   "metadata": {},
   "source": [
    "These can also be run in parallel by specifying `n_jobs`:"
   ]
  },
  {
   "cell_type": "code",
   "execution_count": 15,
   "metadata": {},
   "outputs": [],
   "source": [
    "pscv = sku.PipelineBasicSearchCV(\n",
    "        pipeline_names=pipeline_names,\n",
    "        name_to_object=pipeline_objects,\n",
    "        metrics={'accuracy':accuracy_score},\n",
    "        cv=StratifiedKFold(n_splits=5, shuffle=True),\n",
    "        split_fit_on=['X','y'],\n",
    "        split_transform_on=['X','y'],\n",
    "        verbose=True,\n",
    "        n_jobs=2\n",
    "        )"
   ]
  },
  {
   "cell_type": "code",
   "execution_count": 16,
   "metadata": {},
   "outputs": [
    {
     "data": {
      "text/html": [
       "<style>#sk-58ee62cc-66c5-420a-a135-4f3e7596c700 {color: black;background-color: white;}#sk-58ee62cc-66c5-420a-a135-4f3e7596c700 pre{padding: 0;}#sk-58ee62cc-66c5-420a-a135-4f3e7596c700 div.sk-toggleable {background-color: white;}#sk-58ee62cc-66c5-420a-a135-4f3e7596c700 label.sk-toggleable__label {cursor: pointer;display: block;width: 100%;margin-bottom: 0;padding: 0.3em;box-sizing: border-box;text-align: center;}#sk-58ee62cc-66c5-420a-a135-4f3e7596c700 label.sk-toggleable__label-arrow:before {content: \"▸\";float: left;margin-right: 0.25em;color: #696969;}#sk-58ee62cc-66c5-420a-a135-4f3e7596c700 label.sk-toggleable__label-arrow:hover:before {color: black;}#sk-58ee62cc-66c5-420a-a135-4f3e7596c700 div.sk-estimator:hover label.sk-toggleable__label-arrow:before {color: black;}#sk-58ee62cc-66c5-420a-a135-4f3e7596c700 div.sk-toggleable__content {max-height: 0;max-width: 0;overflow: hidden;text-align: left;background-color: #f0f8ff;}#sk-58ee62cc-66c5-420a-a135-4f3e7596c700 div.sk-toggleable__content pre {margin: 0.2em;color: black;border-radius: 0.25em;background-color: #f0f8ff;}#sk-58ee62cc-66c5-420a-a135-4f3e7596c700 input.sk-toggleable__control:checked~div.sk-toggleable__content {max-height: 200px;max-width: 100%;overflow: auto;}#sk-58ee62cc-66c5-420a-a135-4f3e7596c700 input.sk-toggleable__control:checked~label.sk-toggleable__label-arrow:before {content: \"▾\";}#sk-58ee62cc-66c5-420a-a135-4f3e7596c700 div.sk-estimator input.sk-toggleable__control:checked~label.sk-toggleable__label {background-color: #d4ebff;}#sk-58ee62cc-66c5-420a-a135-4f3e7596c700 div.sk-label input.sk-toggleable__control:checked~label.sk-toggleable__label {background-color: #d4ebff;}#sk-58ee62cc-66c5-420a-a135-4f3e7596c700 input.sk-hidden--visually {border: 0;clip: rect(1px 1px 1px 1px);clip: rect(1px, 1px, 1px, 1px);height: 1px;margin: -1px;overflow: hidden;padding: 0;position: absolute;width: 1px;}#sk-58ee62cc-66c5-420a-a135-4f3e7596c700 div.sk-estimator {font-family: monospace;background-color: #f0f8ff;border: 1px dotted black;border-radius: 0.25em;box-sizing: border-box;margin-bottom: 0.5em;}#sk-58ee62cc-66c5-420a-a135-4f3e7596c700 div.sk-estimator:hover {background-color: #d4ebff;}#sk-58ee62cc-66c5-420a-a135-4f3e7596c700 div.sk-parallel-item::after {content: \"\";width: 100%;border-bottom: 1px solid gray;flex-grow: 1;}#sk-58ee62cc-66c5-420a-a135-4f3e7596c700 div.sk-label:hover label.sk-toggleable__label {background-color: #d4ebff;}#sk-58ee62cc-66c5-420a-a135-4f3e7596c700 div.sk-serial::before {content: \"\";position: absolute;border-left: 1px solid gray;box-sizing: border-box;top: 2em;bottom: 0;left: 50%;}#sk-58ee62cc-66c5-420a-a135-4f3e7596c700 div.sk-serial {display: flex;flex-direction: column;align-items: center;background-color: white;padding-right: 0.2em;padding-left: 0.2em;}#sk-58ee62cc-66c5-420a-a135-4f3e7596c700 div.sk-item {z-index: 1;}#sk-58ee62cc-66c5-420a-a135-4f3e7596c700 div.sk-parallel {display: flex;align-items: stretch;justify-content: center;background-color: white;}#sk-58ee62cc-66c5-420a-a135-4f3e7596c700 div.sk-parallel::before {content: \"\";position: absolute;border-left: 1px solid gray;box-sizing: border-box;top: 2em;bottom: 0;left: 50%;}#sk-58ee62cc-66c5-420a-a135-4f3e7596c700 div.sk-parallel-item {display: flex;flex-direction: column;position: relative;background-color: white;}#sk-58ee62cc-66c5-420a-a135-4f3e7596c700 div.sk-parallel-item:first-child::after {align-self: flex-end;width: 50%;}#sk-58ee62cc-66c5-420a-a135-4f3e7596c700 div.sk-parallel-item:last-child::after {align-self: flex-start;width: 50%;}#sk-58ee62cc-66c5-420a-a135-4f3e7596c700 div.sk-parallel-item:only-child::after {width: 0;}#sk-58ee62cc-66c5-420a-a135-4f3e7596c700 div.sk-dashed-wrapped {border: 1px dashed gray;margin: 0 0.4em 0.5em 0.4em;box-sizing: border-box;padding-bottom: 0.4em;background-color: white;position: relative;}#sk-58ee62cc-66c5-420a-a135-4f3e7596c700 div.sk-label label {font-family: monospace;font-weight: bold;background-color: white;display: inline-block;line-height: 1.2em;}#sk-58ee62cc-66c5-420a-a135-4f3e7596c700 div.sk-label-container {position: relative;z-index: 2;text-align: center;}#sk-58ee62cc-66c5-420a-a135-4f3e7596c700 div.sk-container {/* jupyter's `normalize.less` sets `[hidden] { display: none; }` but bootstrap.min.css set `[hidden] { display: none !important; }` so we also need the `!important` here to be able to override the default hidden behavior on the sphinx rendered scikit-learn.org. See: https://github.com/scikit-learn/scikit-learn/issues/21755 */display: inline-block !important;position: relative;}#sk-58ee62cc-66c5-420a-a135-4f3e7596c700 div.sk-text-repr-fallback {display: none;}</style><div id=\"sk-58ee62cc-66c5-420a-a135-4f3e7596c700\" class=\"sk-top-container\"><div class=\"sk-text-repr-fallback\"><pre>PipelineBasicSearchCV(cv=StratifiedKFold(n_splits=5, random_state=None, shuffle=True),\n",
       "                      metrics={&#x27;accuracy&#x27;: &lt;function accuracy_score at 0x14af555e0&gt;},\n",
       "                      n_jobs=2,\n",
       "                      name_to_object={&#x27;gbt&#x27;: SKModelWrapperDD(categorical_features=None,\n",
       "                                                              early_stopping=&#x27;auto&#x27;,\n",
       "                                                              fit_on=[&#x27;X&#x27;, &#x27;y&#x27;],\n",
       "                                                              l2_regularization=0.0,\n",
       "                                                              learning_rate=0.1,\n",
       "                                                              loss=&#x27;auto&#x27;,\n",
       "                                                              max_bins=255,\n",
       "                                                              max_depth=None,\n",
       "                                                              max_iter=100,\n",
       "                                                              m...\n",
       "                                                              n_iter_no_change=10,\n",
       "                                                              predict_on=[&#x27;X&#x27;],\n",
       "                                                              random_state=None,\n",
       "                                                              scoring=&#x27;loss&#x27;,\n",
       "                                                              tol=1e-07,\n",
       "                                                              validation_fraction=0.1,\n",
       "                                                              verbose=0,\n",
       "                                                              warm_start=False),\n",
       "                                      &#x27;standard_scaler&#x27;: SKTransformerWrapperDD(copy=True,\n",
       "                                                                                fit_on=[&#x27;X_unlabelled&#x27;],\n",
       "                                                                                transform_on=[[&#x27;X&#x27;],\n",
       "                                                                                              [&#x27;X_unlabelled&#x27;]],\n",
       "                                                                                transformer=StandardScaler(),\n",
       "                                                                                with_mean=True,\n",
       "                                                                                with_std=True)},\n",
       "                      pipeline_names=[&#x27;standard_scaler--gbt&#x27;, &#x27;gbt&#x27;],\n",
       "                      verbose=True)</pre><b>Please rerun this cell to show the HTML repr or trust the notebook.</b></div><div class=\"sk-container\" hidden><div class=\"sk-item\"><div class=\"sk-estimator sk-toggleable\"><input class=\"sk-toggleable__control sk-hidden--visually\" id=\"183fc4d0-a6bd-408e-b39e-d9f563dcf05f\" type=\"checkbox\" checked><label for=\"183fc4d0-a6bd-408e-b39e-d9f563dcf05f\" class=\"sk-toggleable__label sk-toggleable__label-arrow\">PipelineBasicSearchCV</label><div class=\"sk-toggleable__content\"><pre>PipelineBasicSearchCV(cv=StratifiedKFold(n_splits=5, random_state=None, shuffle=True),\n",
       "                      metrics={&#x27;accuracy&#x27;: &lt;function accuracy_score at 0x14af555e0&gt;},\n",
       "                      n_jobs=2,\n",
       "                      name_to_object={&#x27;gbt&#x27;: SKModelWrapperDD(categorical_features=None,\n",
       "                                                              early_stopping=&#x27;auto&#x27;,\n",
       "                                                              fit_on=[&#x27;X&#x27;, &#x27;y&#x27;],\n",
       "                                                              l2_regularization=0.0,\n",
       "                                                              learning_rate=0.1,\n",
       "                                                              loss=&#x27;auto&#x27;,\n",
       "                                                              max_bins=255,\n",
       "                                                              max_depth=None,\n",
       "                                                              max_iter=100,\n",
       "                                                              m...\n",
       "                                                              n_iter_no_change=10,\n",
       "                                                              predict_on=[&#x27;X&#x27;],\n",
       "                                                              random_state=None,\n",
       "                                                              scoring=&#x27;loss&#x27;,\n",
       "                                                              tol=1e-07,\n",
       "                                                              validation_fraction=0.1,\n",
       "                                                              verbose=0,\n",
       "                                                              warm_start=False),\n",
       "                                      &#x27;standard_scaler&#x27;: SKTransformerWrapperDD(copy=True,\n",
       "                                                                                fit_on=[&#x27;X_unlabelled&#x27;],\n",
       "                                                                                transform_on=[[&#x27;X&#x27;],\n",
       "                                                                                              [&#x27;X_unlabelled&#x27;]],\n",
       "                                                                                transformer=StandardScaler(),\n",
       "                                                                                with_mean=True,\n",
       "                                                                                with_std=True)},\n",
       "                      pipeline_names=[&#x27;standard_scaler--gbt&#x27;, &#x27;gbt&#x27;],\n",
       "                      verbose=True)</pre></div></div></div></div></div>"
      ],
      "text/plain": [
       "PipelineBasicSearchCV(cv=StratifiedKFold(n_splits=5, random_state=None, shuffle=True),\n",
       "                      metrics={'accuracy': <function accuracy_score at 0x14af555e0>},\n",
       "                      n_jobs=2,\n",
       "                      name_to_object={'gbt': SKModelWrapperDD(categorical_features=None,\n",
       "                                                              early_stopping='auto',\n",
       "                                                              fit_on=['X', 'y'],\n",
       "                                                              l2_regularization=0.0,\n",
       "                                                              learning_rate=0.1,\n",
       "                                                              loss='auto',\n",
       "                                                              max_bins=255,\n",
       "                                                              max_depth=None,\n",
       "                                                              max_iter=100,\n",
       "                                                              m...\n",
       "                                                              n_iter_no_change=10,\n",
       "                                                              predict_on=['X'],\n",
       "                                                              random_state=None,\n",
       "                                                              scoring='loss',\n",
       "                                                              tol=1e-07,\n",
       "                                                              validation_fraction=0.1,\n",
       "                                                              verbose=0,\n",
       "                                                              warm_start=False),\n",
       "                                      'standard_scaler': SKTransformerWrapperDD(copy=True,\n",
       "                                                                                fit_on=['X_unlabelled'],\n",
       "                                                                                transform_on=[['X'],\n",
       "                                                                                              ['X_unlabelled']],\n",
       "                                                                                transformer=StandardScaler(),\n",
       "                                                                                with_mean=True,\n",
       "                                                                                with_std=True)},\n",
       "                      pipeline_names=['standard_scaler--gbt', 'gbt'],\n",
       "                      verbose=True)"
      ]
     },
     "execution_count": 16,
     "metadata": {},
     "output_type": "execute_result"
    }
   ],
   "source": [
    "pscv"
   ]
  },
  {
   "cell_type": "markdown",
   "metadata": {},
   "source": [
    "We must also tell the pipeline searcher which key it should use for the targets when calculating the metrics."
   ]
  },
  {
   "cell_type": "code",
   "execution_count": 17,
   "metadata": {},
   "outputs": [
    {
     "name": "stderr",
     "output_type": "stream",
     "text": [
      "Searching: 100%|▉▉▉▉▉▉▉▉▉▉| 10/10 [00:19<00:00,  1.91s/it, pm_n=gbt]\n"
     ]
    }
   ],
   "source": [
    "results = pscv.fit(X=train_data, y='y')"
   ]
  },
  {
   "cell_type": "code",
   "execution_count": 18,
   "metadata": {},
   "outputs": [
    {
     "data": {
      "text/html": [
       "<div>\n",
       "<style scoped>\n",
       "    .dataframe tbody tr th:only-of-type {\n",
       "        vertical-align: middle;\n",
       "    }\n",
       "\n",
       "    .dataframe tbody tr th {\n",
       "        vertical-align: top;\n",
       "    }\n",
       "\n",
       "    .dataframe thead th {\n",
       "        text-align: right;\n",
       "    }\n",
       "</style>\n",
       "<table border=\"1\" class=\"dataframe\">\n",
       "  <thead>\n",
       "    <tr style=\"text-align: right;\">\n",
       "      <th></th>\n",
       "      <th>pipeline</th>\n",
       "      <th>repeat_number</th>\n",
       "      <th>split_number</th>\n",
       "      <th>train_or_test</th>\n",
       "      <th>metric</th>\n",
       "      <th>value</th>\n",
       "      <th>splitter</th>\n",
       "      <th>params</th>\n",
       "      <th>train_id</th>\n",
       "      <th>param_updates</th>\n",
       "    </tr>\n",
       "  </thead>\n",
       "  <tbody>\n",
       "    <tr>\n",
       "      <th>0</th>\n",
       "      <td>standard_scaler--gbt</td>\n",
       "      <td>0</td>\n",
       "      <td>0</td>\n",
       "      <td>test</td>\n",
       "      <td>accuracy</td>\n",
       "      <td>0.988889</td>\n",
       "      <td>StratifiedKFold</td>\n",
       "      <td>{'memory': None, 'steps': [['standard_scaler',...</td>\n",
       "      <td>071c29f9-ad93-433a-9192-975ee1122dc0</td>\n",
       "      <td>None</td>\n",
       "    </tr>\n",
       "    <tr>\n",
       "      <th>1</th>\n",
       "      <td>standard_scaler--gbt</td>\n",
       "      <td>0</td>\n",
       "      <td>0</td>\n",
       "      <td>train</td>\n",
       "      <td>accuracy</td>\n",
       "      <td>1.000000</td>\n",
       "      <td>StratifiedKFold</td>\n",
       "      <td>{'memory': None, 'steps': [['standard_scaler',...</td>\n",
       "      <td>071c29f9-ad93-433a-9192-975ee1122dc0</td>\n",
       "      <td>None</td>\n",
       "    </tr>\n",
       "    <tr>\n",
       "      <th>2</th>\n",
       "      <td>standard_scaler--gbt</td>\n",
       "      <td>0</td>\n",
       "      <td>1</td>\n",
       "      <td>test</td>\n",
       "      <td>accuracy</td>\n",
       "      <td>0.944444</td>\n",
       "      <td>StratifiedKFold</td>\n",
       "      <td>{'memory': None, 'steps': [['standard_scaler',...</td>\n",
       "      <td>071c29f9-ad93-433a-9192-975ee1122dc0</td>\n",
       "      <td>None</td>\n",
       "    </tr>\n",
       "    <tr>\n",
       "      <th>3</th>\n",
       "      <td>standard_scaler--gbt</td>\n",
       "      <td>0</td>\n",
       "      <td>1</td>\n",
       "      <td>train</td>\n",
       "      <td>accuracy</td>\n",
       "      <td>1.000000</td>\n",
       "      <td>StratifiedKFold</td>\n",
       "      <td>{'memory': None, 'steps': [['standard_scaler',...</td>\n",
       "      <td>071c29f9-ad93-433a-9192-975ee1122dc0</td>\n",
       "      <td>None</td>\n",
       "    </tr>\n",
       "    <tr>\n",
       "      <th>4</th>\n",
       "      <td>standard_scaler--gbt</td>\n",
       "      <td>0</td>\n",
       "      <td>2</td>\n",
       "      <td>test</td>\n",
       "      <td>accuracy</td>\n",
       "      <td>0.977778</td>\n",
       "      <td>StratifiedKFold</td>\n",
       "      <td>{'memory': None, 'steps': [['standard_scaler',...</td>\n",
       "      <td>071c29f9-ad93-433a-9192-975ee1122dc0</td>\n",
       "      <td>None</td>\n",
       "    </tr>\n",
       "    <tr>\n",
       "      <th>5</th>\n",
       "      <td>standard_scaler--gbt</td>\n",
       "      <td>0</td>\n",
       "      <td>2</td>\n",
       "      <td>train</td>\n",
       "      <td>accuracy</td>\n",
       "      <td>1.000000</td>\n",
       "      <td>StratifiedKFold</td>\n",
       "      <td>{'memory': None, 'steps': [['standard_scaler',...</td>\n",
       "      <td>071c29f9-ad93-433a-9192-975ee1122dc0</td>\n",
       "      <td>None</td>\n",
       "    </tr>\n",
       "    <tr>\n",
       "      <th>6</th>\n",
       "      <td>standard_scaler--gbt</td>\n",
       "      <td>0</td>\n",
       "      <td>3</td>\n",
       "      <td>test</td>\n",
       "      <td>accuracy</td>\n",
       "      <td>0.933333</td>\n",
       "      <td>StratifiedKFold</td>\n",
       "      <td>{'memory': None, 'steps': [['standard_scaler',...</td>\n",
       "      <td>071c29f9-ad93-433a-9192-975ee1122dc0</td>\n",
       "      <td>None</td>\n",
       "    </tr>\n",
       "    <tr>\n",
       "      <th>7</th>\n",
       "      <td>standard_scaler--gbt</td>\n",
       "      <td>0</td>\n",
       "      <td>3</td>\n",
       "      <td>train</td>\n",
       "      <td>accuracy</td>\n",
       "      <td>1.000000</td>\n",
       "      <td>StratifiedKFold</td>\n",
       "      <td>{'memory': None, 'steps': [['standard_scaler',...</td>\n",
       "      <td>071c29f9-ad93-433a-9192-975ee1122dc0</td>\n",
       "      <td>None</td>\n",
       "    </tr>\n",
       "    <tr>\n",
       "      <th>8</th>\n",
       "      <td>standard_scaler--gbt</td>\n",
       "      <td>0</td>\n",
       "      <td>4</td>\n",
       "      <td>test</td>\n",
       "      <td>accuracy</td>\n",
       "      <td>0.877778</td>\n",
       "      <td>StratifiedKFold</td>\n",
       "      <td>{'memory': None, 'steps': [['standard_scaler',...</td>\n",
       "      <td>071c29f9-ad93-433a-9192-975ee1122dc0</td>\n",
       "      <td>None</td>\n",
       "    </tr>\n",
       "    <tr>\n",
       "      <th>9</th>\n",
       "      <td>standard_scaler--gbt</td>\n",
       "      <td>0</td>\n",
       "      <td>4</td>\n",
       "      <td>train</td>\n",
       "      <td>accuracy</td>\n",
       "      <td>1.000000</td>\n",
       "      <td>StratifiedKFold</td>\n",
       "      <td>{'memory': None, 'steps': [['standard_scaler',...</td>\n",
       "      <td>071c29f9-ad93-433a-9192-975ee1122dc0</td>\n",
       "      <td>None</td>\n",
       "    </tr>\n",
       "    <tr>\n",
       "      <th>10</th>\n",
       "      <td>gbt</td>\n",
       "      <td>0</td>\n",
       "      <td>0</td>\n",
       "      <td>test</td>\n",
       "      <td>accuracy</td>\n",
       "      <td>1.000000</td>\n",
       "      <td>StratifiedKFold</td>\n",
       "      <td>{'memory': None, 'steps': [['gbt', SKModelWrap...</td>\n",
       "      <td>5bb8e4f5-7dbb-48c8-95bf-7d3ac0a5b35f</td>\n",
       "      <td>None</td>\n",
       "    </tr>\n",
       "    <tr>\n",
       "      <th>11</th>\n",
       "      <td>gbt</td>\n",
       "      <td>0</td>\n",
       "      <td>0</td>\n",
       "      <td>train</td>\n",
       "      <td>accuracy</td>\n",
       "      <td>1.000000</td>\n",
       "      <td>StratifiedKFold</td>\n",
       "      <td>{'memory': None, 'steps': [['gbt', SKModelWrap...</td>\n",
       "      <td>5bb8e4f5-7dbb-48c8-95bf-7d3ac0a5b35f</td>\n",
       "      <td>None</td>\n",
       "    </tr>\n",
       "    <tr>\n",
       "      <th>12</th>\n",
       "      <td>gbt</td>\n",
       "      <td>0</td>\n",
       "      <td>1</td>\n",
       "      <td>test</td>\n",
       "      <td>accuracy</td>\n",
       "      <td>0.911111</td>\n",
       "      <td>StratifiedKFold</td>\n",
       "      <td>{'memory': None, 'steps': [['gbt', SKModelWrap...</td>\n",
       "      <td>5bb8e4f5-7dbb-48c8-95bf-7d3ac0a5b35f</td>\n",
       "      <td>None</td>\n",
       "    </tr>\n",
       "    <tr>\n",
       "      <th>13</th>\n",
       "      <td>gbt</td>\n",
       "      <td>0</td>\n",
       "      <td>1</td>\n",
       "      <td>train</td>\n",
       "      <td>accuracy</td>\n",
       "      <td>1.000000</td>\n",
       "      <td>StratifiedKFold</td>\n",
       "      <td>{'memory': None, 'steps': [['gbt', SKModelWrap...</td>\n",
       "      <td>5bb8e4f5-7dbb-48c8-95bf-7d3ac0a5b35f</td>\n",
       "      <td>None</td>\n",
       "    </tr>\n",
       "    <tr>\n",
       "      <th>14</th>\n",
       "      <td>gbt</td>\n",
       "      <td>0</td>\n",
       "      <td>2</td>\n",
       "      <td>test</td>\n",
       "      <td>accuracy</td>\n",
       "      <td>0.877778</td>\n",
       "      <td>StratifiedKFold</td>\n",
       "      <td>{'memory': None, 'steps': [['gbt', SKModelWrap...</td>\n",
       "      <td>5bb8e4f5-7dbb-48c8-95bf-7d3ac0a5b35f</td>\n",
       "      <td>None</td>\n",
       "    </tr>\n",
       "    <tr>\n",
       "      <th>15</th>\n",
       "      <td>gbt</td>\n",
       "      <td>0</td>\n",
       "      <td>2</td>\n",
       "      <td>train</td>\n",
       "      <td>accuracy</td>\n",
       "      <td>1.000000</td>\n",
       "      <td>StratifiedKFold</td>\n",
       "      <td>{'memory': None, 'steps': [['gbt', SKModelWrap...</td>\n",
       "      <td>5bb8e4f5-7dbb-48c8-95bf-7d3ac0a5b35f</td>\n",
       "      <td>None</td>\n",
       "    </tr>\n",
       "    <tr>\n",
       "      <th>16</th>\n",
       "      <td>gbt</td>\n",
       "      <td>0</td>\n",
       "      <td>3</td>\n",
       "      <td>test</td>\n",
       "      <td>accuracy</td>\n",
       "      <td>0.944444</td>\n",
       "      <td>StratifiedKFold</td>\n",
       "      <td>{'memory': None, 'steps': [['gbt', SKModelWrap...</td>\n",
       "      <td>5bb8e4f5-7dbb-48c8-95bf-7d3ac0a5b35f</td>\n",
       "      <td>None</td>\n",
       "    </tr>\n",
       "    <tr>\n",
       "      <th>17</th>\n",
       "      <td>gbt</td>\n",
       "      <td>0</td>\n",
       "      <td>3</td>\n",
       "      <td>train</td>\n",
       "      <td>accuracy</td>\n",
       "      <td>1.000000</td>\n",
       "      <td>StratifiedKFold</td>\n",
       "      <td>{'memory': None, 'steps': [['gbt', SKModelWrap...</td>\n",
       "      <td>5bb8e4f5-7dbb-48c8-95bf-7d3ac0a5b35f</td>\n",
       "      <td>None</td>\n",
       "    </tr>\n",
       "    <tr>\n",
       "      <th>18</th>\n",
       "      <td>gbt</td>\n",
       "      <td>0</td>\n",
       "      <td>4</td>\n",
       "      <td>test</td>\n",
       "      <td>accuracy</td>\n",
       "      <td>0.955556</td>\n",
       "      <td>StratifiedKFold</td>\n",
       "      <td>{'memory': None, 'steps': [['gbt', SKModelWrap...</td>\n",
       "      <td>5bb8e4f5-7dbb-48c8-95bf-7d3ac0a5b35f</td>\n",
       "      <td>None</td>\n",
       "    </tr>\n",
       "    <tr>\n",
       "      <th>19</th>\n",
       "      <td>gbt</td>\n",
       "      <td>0</td>\n",
       "      <td>4</td>\n",
       "      <td>train</td>\n",
       "      <td>accuracy</td>\n",
       "      <td>1.000000</td>\n",
       "      <td>StratifiedKFold</td>\n",
       "      <td>{'memory': None, 'steps': [['gbt', SKModelWrap...</td>\n",
       "      <td>5bb8e4f5-7dbb-48c8-95bf-7d3ac0a5b35f</td>\n",
       "      <td>None</td>\n",
       "    </tr>\n",
       "  </tbody>\n",
       "</table>\n",
       "</div>"
      ],
      "text/plain": [
       "                pipeline  repeat_number  split_number train_or_test    metric  \\\n",
       "0   standard_scaler--gbt              0             0          test  accuracy   \n",
       "1   standard_scaler--gbt              0             0         train  accuracy   \n",
       "2   standard_scaler--gbt              0             1          test  accuracy   \n",
       "3   standard_scaler--gbt              0             1         train  accuracy   \n",
       "4   standard_scaler--gbt              0             2          test  accuracy   \n",
       "5   standard_scaler--gbt              0             2         train  accuracy   \n",
       "6   standard_scaler--gbt              0             3          test  accuracy   \n",
       "7   standard_scaler--gbt              0             3         train  accuracy   \n",
       "8   standard_scaler--gbt              0             4          test  accuracy   \n",
       "9   standard_scaler--gbt              0             4         train  accuracy   \n",
       "10                   gbt              0             0          test  accuracy   \n",
       "11                   gbt              0             0         train  accuracy   \n",
       "12                   gbt              0             1          test  accuracy   \n",
       "13                   gbt              0             1         train  accuracy   \n",
       "14                   gbt              0             2          test  accuracy   \n",
       "15                   gbt              0             2         train  accuracy   \n",
       "16                   gbt              0             3          test  accuracy   \n",
       "17                   gbt              0             3         train  accuracy   \n",
       "18                   gbt              0             4          test  accuracy   \n",
       "19                   gbt              0             4         train  accuracy   \n",
       "\n",
       "       value         splitter  \\\n",
       "0   0.988889  StratifiedKFold   \n",
       "1   1.000000  StratifiedKFold   \n",
       "2   0.944444  StratifiedKFold   \n",
       "3   1.000000  StratifiedKFold   \n",
       "4   0.977778  StratifiedKFold   \n",
       "5   1.000000  StratifiedKFold   \n",
       "6   0.933333  StratifiedKFold   \n",
       "7   1.000000  StratifiedKFold   \n",
       "8   0.877778  StratifiedKFold   \n",
       "9   1.000000  StratifiedKFold   \n",
       "10  1.000000  StratifiedKFold   \n",
       "11  1.000000  StratifiedKFold   \n",
       "12  0.911111  StratifiedKFold   \n",
       "13  1.000000  StratifiedKFold   \n",
       "14  0.877778  StratifiedKFold   \n",
       "15  1.000000  StratifiedKFold   \n",
       "16  0.944444  StratifiedKFold   \n",
       "17  1.000000  StratifiedKFold   \n",
       "18  0.955556  StratifiedKFold   \n",
       "19  1.000000  StratifiedKFold   \n",
       "\n",
       "                                               params  \\\n",
       "0   {'memory': None, 'steps': [['standard_scaler',...   \n",
       "1   {'memory': None, 'steps': [['standard_scaler',...   \n",
       "2   {'memory': None, 'steps': [['standard_scaler',...   \n",
       "3   {'memory': None, 'steps': [['standard_scaler',...   \n",
       "4   {'memory': None, 'steps': [['standard_scaler',...   \n",
       "5   {'memory': None, 'steps': [['standard_scaler',...   \n",
       "6   {'memory': None, 'steps': [['standard_scaler',...   \n",
       "7   {'memory': None, 'steps': [['standard_scaler',...   \n",
       "8   {'memory': None, 'steps': [['standard_scaler',...   \n",
       "9   {'memory': None, 'steps': [['standard_scaler',...   \n",
       "10  {'memory': None, 'steps': [['gbt', SKModelWrap...   \n",
       "11  {'memory': None, 'steps': [['gbt', SKModelWrap...   \n",
       "12  {'memory': None, 'steps': [['gbt', SKModelWrap...   \n",
       "13  {'memory': None, 'steps': [['gbt', SKModelWrap...   \n",
       "14  {'memory': None, 'steps': [['gbt', SKModelWrap...   \n",
       "15  {'memory': None, 'steps': [['gbt', SKModelWrap...   \n",
       "16  {'memory': None, 'steps': [['gbt', SKModelWrap...   \n",
       "17  {'memory': None, 'steps': [['gbt', SKModelWrap...   \n",
       "18  {'memory': None, 'steps': [['gbt', SKModelWrap...   \n",
       "19  {'memory': None, 'steps': [['gbt', SKModelWrap...   \n",
       "\n",
       "                                train_id param_updates  \n",
       "0   071c29f9-ad93-433a-9192-975ee1122dc0          None  \n",
       "1   071c29f9-ad93-433a-9192-975ee1122dc0          None  \n",
       "2   071c29f9-ad93-433a-9192-975ee1122dc0          None  \n",
       "3   071c29f9-ad93-433a-9192-975ee1122dc0          None  \n",
       "4   071c29f9-ad93-433a-9192-975ee1122dc0          None  \n",
       "5   071c29f9-ad93-433a-9192-975ee1122dc0          None  \n",
       "6   071c29f9-ad93-433a-9192-975ee1122dc0          None  \n",
       "7   071c29f9-ad93-433a-9192-975ee1122dc0          None  \n",
       "8   071c29f9-ad93-433a-9192-975ee1122dc0          None  \n",
       "9   071c29f9-ad93-433a-9192-975ee1122dc0          None  \n",
       "10  5bb8e4f5-7dbb-48c8-95bf-7d3ac0a5b35f          None  \n",
       "11  5bb8e4f5-7dbb-48c8-95bf-7d3ac0a5b35f          None  \n",
       "12  5bb8e4f5-7dbb-48c8-95bf-7d3ac0a5b35f          None  \n",
       "13  5bb8e4f5-7dbb-48c8-95bf-7d3ac0a5b35f          None  \n",
       "14  5bb8e4f5-7dbb-48c8-95bf-7d3ac0a5b35f          None  \n",
       "15  5bb8e4f5-7dbb-48c8-95bf-7d3ac0a5b35f          None  \n",
       "16  5bb8e4f5-7dbb-48c8-95bf-7d3ac0a5b35f          None  \n",
       "17  5bb8e4f5-7dbb-48c8-95bf-7d3ac0a5b35f          None  \n",
       "18  5bb8e4f5-7dbb-48c8-95bf-7d3ac0a5b35f          None  \n",
       "19  5bb8e4f5-7dbb-48c8-95bf-7d3ac0a5b35f          None  "
      ]
     },
     "execution_count": 18,
     "metadata": {},
     "output_type": "execute_result"
    }
   ],
   "source": [
    "results"
   ]
  }
 ],
 "metadata": {
  "interpreter": {
   "hash": "7558e63c23b0a0714362031d3a7b8ced60481b05af2dfe8700c0e85c4165f598"
  },
  "kernelspec": {
   "display_name": "Python 3.9.12 ('dcarte')",
   "language": "python",
   "name": "python3"
  },
  "language_info": {
   "codemirror_mode": {
    "name": "ipython",
    "version": 3
   },
   "file_extension": ".py",
   "mimetype": "text/x-python",
   "name": "python",
   "nbconvert_exporter": "python",
   "pygments_lexer": "ipython3",
   "version": "3.9.12"
  },
  "orig_nbformat": 4
 },
 "nbformat": 4,
 "nbformat_minor": 2
}
